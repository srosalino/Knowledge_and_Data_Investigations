{
 "cells": [
  {
   "cell_type": "markdown",
   "metadata": {
    "tags": []
   },
   "source": [
    "# Knowledge and Data: Practical Assignment 2\n",
    "## Manipulate local and external RDF Knowledge Graphs "
   ]
  },
  {
   "cell_type": "markdown",
   "metadata": {},
   "source": [
    "YOUR NAME: Sebastião Manuel Inácio Rosalino\n",
    "\n",
    "YOUR VUNetID: sxx209 \n",
    "\n",
    "*(If you do not provide your name and VUNetID we will not accept your submission).*"
   ]
  },
  {
   "cell_type": "markdown",
   "metadata": {},
   "source": [
    "### Learning objectives"
   ]
  },
  {
   "cell_type": "markdown",
   "metadata": {},
   "source": [
    "At the end of this exercise you should be able to perform some simple manipulations of RDF Data using the rdflib library. You should be able to: \n",
    "\n",
    "1. Add and retrieve information from a local RDF database\n",
    "2. Represent RDF data in other formats, such as the .dot format for graph visualisation\n",
    "3. Retrieve information from an RDF database created from Web Data\n",
    "4. Query information from the Web with SPARQL"
   ]
  },
  {
   "cell_type": "markdown",
   "metadata": {},
   "source": [
    "### Practicalities"
   ]
  },
  {
   "cell_type": "markdown",
   "metadata": {},
   "source": [
    "Follow this Notebook step-by-step. \n",
    "\n",
    "Of course, you can do the exercises in any Programming Editor of your liking. \n",
    "But you do not have to. Feel free to simply write code in the Notebook. When \n",
    "everything is filled in and works, save the Notebook and submit it \n",
    "as a Jupyter Notebook, i.e. with an .ipynb extension. Please use as name of the \n",
    "Notebook your studentID+Assignment2.ipynb.  \n",
    "\n",
    "Other than in courses dedicated to programming we will not evaluate the style\n",
    "of the programs. But we will test your programs on other data than we provide, \n",
    "and your program should give the correct answers to those test-data as well. "
   ]
  },
  {
   "cell_type": "markdown",
   "metadata": {},
   "source": [
    "# A. Tasks related to local RDF Knowledge Graphs"
   ]
  },
  {
   "cell_type": "markdown",
   "metadata": {},
   "source": [
    "This first cell will open a file 'example-from-slide.ttl' using the rdflib library. The first Practical Assignment should have taught you that manipulating symbols as strings is a major pain. \n",
    "\n",
    "Programming libraries, such as **rdflib**, help you with this mess once and for all, by parsing the files, creating appropriate datastructures (Graph()) and providing useful functions (such as serialize(), save() and much more). \n",
    "Check the website of rdflib http://rdflib.readthedocs.io/: this library does most of the hard work for you."
   ]
  },
  {
   "cell_type": "code",
   "execution_count": 26,
   "metadata": {},
   "outputs": [
    {
     "name": "stdout",
     "output_type": "stream",
     "text": [
      "Requirement already satisfied: rdflib in c:\\users\\sebas\\anaconda3\\envs\\main_env\\lib\\site-packages (6.2.0)\n",
      "Requirement already satisfied: pyparsing in c:\\users\\sebas\\anaconda3\\envs\\main_env\\lib\\site-packages (from rdflib) (3.0.4)\n",
      "Requirement already satisfied: setuptools in c:\\users\\sebas\\anaconda3\\envs\\main_env\\lib\\site-packages (from rdflib) (61.2.0)\n",
      "Requirement already satisfied: isodate in c:\\users\\sebas\\anaconda3\\envs\\main_env\\lib\\site-packages (from rdflib) (0.6.1)\n",
      "Requirement already satisfied: six in c:\\users\\sebas\\anaconda3\\envs\\main_env\\lib\\site-packages (from isodate->rdflib) (1.16.0)\n",
      "Note: you may need to restart the kernel to use updated packages.\n"
     ]
    }
   ],
   "source": [
    "# Before starting with the tasks of this assignment, do not forget to install **rdflib** so we can start using it. \n",
    "%pip install rdflib"
   ]
  },
  {
   "cell_type": "code",
   "execution_count": 27,
   "metadata": {},
   "outputs": [],
   "source": [
    "from rdflib import Graph, RDF, Namespace, Literal, URIRef\n",
    "\n",
    "g = Graph()\n",
    "\n",
    "EX = Namespace('http://example.com/kad0/')\n",
    "g.bind('ex',EX)\n",
    "\n",
    "def serialize_graph():\n",
    "    # g.serialize() returns a string\n",
    "    print(g.serialize(format='turtle'))\n",
    "\n",
    "def save_graph(filename):\n",
    "    with open(filename, 'w') as f:\n",
    "        g.serialize(f, format='nt')\n",
    "        \n",
    "def load_graph(filename):\n",
    "    with open(filename, 'r') as f:\n",
    "        g.parse(f, format='turtle')   "
   ]
  },
  {
   "cell_type": "markdown",
   "metadata": {},
   "source": [
    "The file 'example-from-slides.ttl' formalises the knowledge base from the slides from Module 1, and a bit more. \n",
    "\n",
    "Here is how it looks when you load it into your program and serialise it with rdflib in turtle. "
   ]
  },
  {
   "cell_type": "code",
   "execution_count": 28,
   "metadata": {},
   "outputs": [
    {
     "name": "stdout",
     "output_type": "stream",
     "text": [
      "@prefix ex1: <http://example.com/kad/> .\n",
      "@prefix rdfs: <http://www.w3.org/2000/01/rdf-schema#> .\n",
      "\n",
      "ex1:Germany a ex1:EuropeanCountry .\n",
      "\n",
      "ex1:Netherlands a ex1:Country ;\n",
      "    ex1:hasCapital ex1:Amsterdam ;\n",
      "    ex1:hasName \"The Netherlands\" ;\n",
      "    ex1:neighbours ex1:Belgium .\n",
      "\n",
      "ex1:hasCapital rdfs:range ex1:Capital ;\n",
      "    rdfs:subPropertyOf ex1:containsCity .\n",
      "\n",
      "ex1:Amsterdam a ex1:Capital .\n",
      "\n",
      "ex1:Belgium a ex1:Country .\n",
      "\n",
      "ex1:EuropeanCountry rdfs:subClassOf ex1:Country .\n",
      "\n",
      "ex1:containsCity rdfs:domain ex1:Country ;\n",
      "    rdfs:range ex1:City .\n",
      "\n",
      "ex1:Capital rdfs:subClassOf ex1:City .\n",
      "\n",
      "\n"
     ]
    }
   ],
   "source": [
    "load_graph('example-from-slides.ttl')\n",
    "serialize_graph()"
   ]
  },
  {
   "cell_type": "markdown",
   "metadata": {},
   "source": [
    "Now, we can manipulate the graph very easily, e.g. like in the following very simple function, which returns the predicate(s) that relate a subject to a literal object: "
   ]
  },
  {
   "cell_type": "code",
   "execution_count": 29,
   "metadata": {
    "scrolled": true
   },
   "outputs": [
    {
     "name": "stdout",
     "output_type": "stream",
     "text": [
      "http://example.com/kad/hasName\n"
     ]
    }
   ],
   "source": [
    "for s,p,o in g:\n",
    "    if type(o) is Literal:\n",
    "        print(p)"
   ]
  },
  {
   "cell_type": "markdown",
   "metadata": {},
   "source": [
    "### - Task 1: (1 Point) Add information to an RDF graph"
   ]
  },
  {
   "cell_type": "markdown",
   "metadata": {},
   "source": [
    "Add triples to the knowledge graph. Make sure that they have the right namespaces. \n",
    "\n",
    "Similarily to the triples already present in the file 'example-from-slides.ttl':\n",
    "- add at least three new countries with their name and capital \n",
    "- add at least one triple with the neighbour predicate\n",
    "\n",
    "Check: http://rdflib.readthedocs.io/en/stable/intro_to_creating_rdf.html\n",
    "\n",
    "Remember that ```a``` is Turtle shorthand for ```rdf:type```."
   ]
  },
  {
   "cell_type": "code",
   "execution_count": 30,
   "metadata": {},
   "outputs": [
    {
     "name": "stdout",
     "output_type": "stream",
     "text": [
      "@prefix ex1: <http://example.com/kad/> .\n",
      "@prefix rdfs: <http://www.w3.org/2000/01/rdf-schema#> .\n",
      "\n",
      "ex1:Germany a ex1:EuropeanCountry .\n",
      "\n",
      "ex1:Netherlands a ex1:Country ;\n",
      "    ex1:hasCapital ex1:Amsterdam ;\n",
      "    ex1:hasName \"The Netherlands\" ;\n",
      "    ex1:neighbours ex1:Belgium .\n",
      "\n",
      "ex1:Portugal a ex1:Country ;\n",
      "    ex1:hasCapital ex1:Lisbon ;\n",
      "    ex1:hasName \"República Portuguesa\" ;\n",
      "    ex1:neighbours ex1:Spain .\n",
      "\n",
      "ex1:USA a ex1:Country ;\n",
      "    ex1:hasCapital ex1:WashingtonDC ;\n",
      "    ex1:hasName \"United States of America\" .\n",
      "\n",
      "ex1:hasCapital rdfs:range ex1:Capital ;\n",
      "    rdfs:subPropertyOf ex1:containsCity .\n",
      "\n",
      "ex1:Amsterdam a ex1:Capital .\n",
      "\n",
      "ex1:Belgium a ex1:Country .\n",
      "\n",
      "ex1:EuropeanCountry rdfs:subClassOf ex1:Country .\n",
      "\n",
      "ex1:Spain a ex1:Country ;\n",
      "    ex1:hasCapital ex1:Madrid ;\n",
      "    ex1:hasName \"Reino de España\" .\n",
      "\n",
      "ex1:containsCity rdfs:domain ex1:Country ;\n",
      "    rdfs:range ex1:City .\n",
      "\n",
      "ex1:Capital rdfs:subClassOf ex1:City .\n",
      "\n",
      "\n"
     ]
    }
   ],
   "source": [
    "ex = Namespace(\"http://example.com/kad/\")\n",
    "owl = Namespace(\"http://www.w3.org/2002/07/owl#\")\n",
    "rdf = Namespace(\"http://www.w3.org/1999/02/22-rdf-syntax-ns#\")\n",
    "rdfs = Namespace(\"http://www.w3.org/2000/01/rdf-schema#\")\n",
    "\n",
    "\n",
    "# add triples here to the graph 'g' (do not forget the namespaces).\n",
    "\n",
    "# Adding all of the Portugal information\n",
    "\n",
    "g.add((ex.Portugal, rdf.type, ex.Country))\n",
    "g.add((ex.Portugal, ex.hasName, Literal(\"República Portuguesa\")))\n",
    "g.add((ex.Portugal, ex.hasCapital, ex.Lisbon))\n",
    "\n",
    "# Adding all of the USA information\n",
    "\n",
    "g.add((ex.USA, rdf.type, ex.Country))\n",
    "g.add((ex.USA, ex.hasName, Literal(\"United States of America\")))\n",
    "g.add((ex.USA, ex.hasCapital, ex.WashingtonDC))\n",
    "\n",
    "# Adding all of the Spain information\n",
    "\n",
    "g.add((ex.Spain, rdf.type, ex.Country))\n",
    "g.add((ex.Spain, ex.hasName, Literal(\"Reino de España\")))\n",
    "g.add((ex.Spain, ex.hasCapital, ex.Madrid))\n",
    "\n",
    "# Neighbour predicate triple\n",
    "\n",
    "g.add((ex.Portugal, ex.neighbours, ex.Spain))\n",
    "\n",
    "serialize_graph()"
   ]
  },
  {
   "cell_type": "markdown",
   "metadata": {},
   "source": [
    "*After you ran the previous code (adding triples) the next cells will be executed on your extended graph. That is ok.*"
   ]
  },
  {
   "cell_type": "markdown",
   "metadata": {},
   "source": [
    "### - Task 2a: (1 Point) Get structured information from an RDF graph (all Literals)"
   ]
  },
  {
   "cell_type": "markdown",
   "metadata": {},
   "source": [
    "Use the functions available in the RDFLib library. Write a small function to print all Literals. \n",
    "\n",
    "Hint: there is a function in rdflib to test the type of an object (check previous examples in this notebook)"
   ]
  },
  {
   "cell_type": "code",
   "execution_count": 31,
   "metadata": {},
   "outputs": [
    {
     "name": "stdout",
     "output_type": "stream",
     "text": [
      "United States of America\n",
      "The Netherlands\n",
      "República Portuguesa\n",
      "Reino de España\n"
     ]
    }
   ],
   "source": [
    "for s,p,o in g:\n",
    "    if isinstance(o, Literal):\n",
    "        print(o)"
   ]
  },
  {
   "cell_type": "markdown",
   "metadata": {},
   "source": [
    "### - Task 2b: (1 Point) Get structured information from an RDF graph (all unique Predicates)"
   ]
  },
  {
   "cell_type": "markdown",
   "metadata": {},
   "source": [
    "Please provide another function that gives a **unique** list of the predicates, ordered by occurrence (most occurring first). The answer will look like similar to this: \n",
    "<br>http://www.w3.org/2000/01/rdf-schema#label\n",
    "<br>http://www.w3.org/1999/02/22-rdf-syntax-ns#type\n",
    "<br>http://example.com/sw2016/locatedIn\n",
    "<br>http://www.w3.org/2000/01/rdf-schema#range"
   ]
  },
  {
   "cell_type": "code",
   "execution_count": 32,
   "metadata": {},
   "outputs": [
    {
     "data": {
      "text/plain": [
       "['http://www.w3.org/2000/01/rdf-schema#subPropertyOf',\n",
       " 'http://www.w3.org/2000/01/rdf-schema#subClassOf',\n",
       " 'http://www.w3.org/2000/01/rdf-schema#range',\n",
       " 'http://www.w3.org/2000/01/rdf-schema#domain',\n",
       " 'http://www.w3.org/1999/02/22-rdf-syntax-ns#type',\n",
       " 'http://example.com/kad/neighbours',\n",
       " 'http://example.com/kad/hasName',\n",
       " 'http://example.com/kad/hasCapital']"
      ]
     },
     "execution_count": 32,
     "metadata": {},
     "output_type": "execute_result"
    }
   ],
   "source": [
    "unique_predicates = {}\n",
    "\n",
    "for s,p,o in g:\n",
    "    if not str(p) in unique_predicates:\n",
    "        unique_predicates[str(p)] = 0\n",
    "    unique_predicates[str(p)] += 1\n",
    "\n",
    "sorted_list = sorted(unique_predicates, reverse=True)\n",
    "\n",
    "sorted_list"
   ]
  },
  {
   "cell_type": "markdown",
   "metadata": {},
   "source": [
    "# B. Tasks related to Graph visualisations "
   ]
  },
  {
   "cell_type": "markdown",
   "metadata": {},
   "source": [
    "### - Task 3a: (2 Point) From RDF to .dot \n"
   ]
  },
  {
   "cell_type": "markdown",
   "metadata": {},
   "source": [
    "In the lecture, we have seen two ways of writing a knowledge graph (simple n-triples, and simple turtle). Let us consider a 3rd syntax, this time a syntax that is useful for visualisation. One standard for visualising graphs is the .dot format.\n",
    "\n",
    "Print the knowledge graph in .dot file format. Check https://graphviz.gitlab.io/documentation/ and https://graphviz.readthedocs.io/en/stable/ for the documentation. You will only need very little of this information, and the most relevant information can be found in the examples that are given. \n",
    "\n",
    "<br>Basically, an RDF graph in .dot format starts with \n",
    "<br>digraph G { \n",
    "    and then a list of links of the following form \n",
    "<br>s -> o [label=\"p\"]\n",
    "    for every (s p o ) in KG (separated by ;\n",
    "<br>Do not forget to end with a closing bracket. }\n",
    "\n",
    "An example is \n",
    "     \n",
    "     digraph G { s1 -> o1 [label=\"p1\"] ; s2 -> o2 [label=\"p2\"] } \n",
    "     \n",
    "for an RDF graph {(s1 p1 o1),(s2 p2 o2)}"
   ]
  },
  {
   "cell_type": "code",
   "execution_count": 33,
   "metadata": {},
   "outputs": [
    {
     "name": "stdout",
     "output_type": "stream",
     "text": [
      "Requirement already satisfied: graphviz in c:\\users\\sebas\\anaconda3\\envs\\main_env\\lib\\site-packages (0.20.1)\n",
      "Note: you may need to restart the kernel to use updated packages.\n"
     ]
    }
   ],
   "source": [
    "# install and import the graphviz library\n",
    "%pip install graphviz\n",
    "import graphviz"
   ]
  },
  {
   "cell_type": "markdown",
   "metadata": {},
   "source": [
    "First, create an auxiliary function which strips the namespaces from URIs. This is necessary to make the node names readable when visualizing the .dot graph."
   ]
  },
  {
   "cell_type": "code",
   "execution_count": 34,
   "metadata": {},
   "outputs": [],
   "source": [
    "def strip(e):\n",
    "\n",
    "    if type(e) is Literal:\n",
    "        return str(e)\n",
    "    \n",
    "    result = e.split(\"/\")[-1]\n",
    "    if \"#\" in result:\n",
    "        result = result.split(\"#\")[-1]\n",
    "    return result"
   ]
  },
  {
   "cell_type": "code",
   "execution_count": 35,
   "metadata": {},
   "outputs": [
    {
     "data": {
      "text/plain": [
       "'pizza'"
      ]
     },
     "execution_count": 35,
     "metadata": {},
     "output_type": "execute_result"
    }
   ],
   "source": [
    "# Testing the strip function\n",
    "\n",
    "strip('http://www.example.org/pizza')"
   ]
  },
  {
   "cell_type": "markdown",
   "metadata": {},
   "source": [
    "Next, convert your graph to the .dot format"
   ]
  },
  {
   "cell_type": "code",
   "execution_count": 36,
   "metadata": {
    "tags": []
   },
   "outputs": [],
   "source": [
    "dot = graphviz.Digraph(strict=True, graph_attr={\"dpi\":\"52\"})  # adjust dpi to scale graph\n",
    "\n",
    "for s,p,o in g:\n",
    "    dot.edge(strip(s), strip(o), strip(p))"
   ]
  },
  {
   "cell_type": "markdown",
   "metadata": {},
   "source": [
    "View the end result is .dot syntax and as a graph:"
   ]
  },
  {
   "cell_type": "code",
   "execution_count": 37,
   "metadata": {},
   "outputs": [
    {
     "name": "stdout",
     "output_type": "stream",
     "text": [
      "strict digraph {\n",
      "\tgraph [dpi=52]\n",
      "\tSpain -> Country [label=type]\n",
      "\tUSA -> \"United States of America\" [label=hasName]\n",
      "\tNetherlands -> \"The Netherlands\" [label=hasName]\n",
      "\tcontainsCity -> City [label=range]\n",
      "\tNetherlands -> Amsterdam [label=hasCapital]\n",
      "\tNetherlands -> Belgium [label=neighbours]\n",
      "\tcontainsCity -> Country [label=domain]\n",
      "\thasCapital -> Capital [label=range]\n",
      "\tUSA -> Country [label=type]\n",
      "\tPortugal -> Lisbon [label=hasCapital]\n",
      "\tNetherlands -> Country [label=type]\n",
      "\tCapital -> City [label=subClassOf]\n",
      "\tPortugal -> \"República Portuguesa\" [label=hasName]\n",
      "\tPortugal -> Spain [label=neighbours]\n",
      "\tEuropeanCountry -> Country [label=subClassOf]\n",
      "\tGermany -> EuropeanCountry [label=type]\n",
      "\thasCapital -> containsCity [label=subPropertyOf]\n",
      "\tBelgium -> Country [label=type]\n",
      "\tPortugal -> Country [label=type]\n",
      "\tAmsterdam -> Capital [label=type]\n",
      "\tSpain -> \"Reino de España\" [label=hasName]\n",
      "\tSpain -> Madrid [label=hasCapital]\n",
      "\tUSA -> WashingtonDC [label=hasCapital]\n",
      "}\n",
      "\n"
     ]
    },
    {
     "data": {
      "image/svg+xml": [
       "<?xml version=\"1.0\" encoding=\"UTF-8\" standalone=\"no\"?>\n",
       "<!DOCTYPE svg PUBLIC \"-//W3C//DTD SVG 1.1//EN\"\n",
       " \"http://www.w3.org/Graphics/SVG/1.1/DTD/svg11.dtd\">\n",
       "<!-- Generated by graphviz version 2.50.0 (0)\n",
       " -->\n",
       "<!-- Pages: 1 -->\n",
       "<svg width=\"1196pt\" height=\"220pt\"\n",
       " viewBox=\"0.00 0.00 1655.93 305.00\" xmlns=\"http://www.w3.org/2000/svg\" xmlns:xlink=\"http://www.w3.org/1999/xlink\">\n",
       "<g id=\"graph0\" class=\"graph\" transform=\"scale(0.72 0.72) rotate(0) translate(4 301)\">\n",
       "<polygon fill=\"white\" stroke=\"transparent\" points=\"-4,4 -4,-301 1651.93,-301 1651.93,4 -4,4\"/>\n",
       "<!-- Spain -->\n",
       "<g id=\"node1\" class=\"node\">\n",
       "<title>Spain</title>\n",
       "<ellipse fill=\"none\" stroke=\"black\" cx=\"1515.74\" cy=\"-192\" rx=\"30.59\" ry=\"18\"/>\n",
       "<text text-anchor=\"middle\" x=\"1515.74\" y=\"-188.3\" font-family=\"Times New Roman,serif\" font-size=\"14.00\">Spain</text>\n",
       "</g>\n",
       "<!-- Country -->\n",
       "<g id=\"node2\" class=\"node\">\n",
       "<title>Country</title>\n",
       "<ellipse fill=\"none\" stroke=\"black\" cx=\"918.74\" cy=\"-105\" rx=\"39.79\" ry=\"18\"/>\n",
       "<text text-anchor=\"middle\" x=\"918.74\" y=\"-101.3\" font-family=\"Times New Roman,serif\" font-size=\"14.00\">Country</text>\n",
       "</g>\n",
       "<!-- Spain&#45;&gt;Country -->\n",
       "<g id=\"edge1\" class=\"edge\">\n",
       "<title>Spain&#45;&gt;Country</title>\n",
       "<path fill=\"none\" stroke=\"black\" d=\"M1492.86,-179.98C1487.36,-177.7 1481.43,-175.52 1475.74,-174 1293.02,-125.06 1067.03,-111.24 968.54,-107.42\"/>\n",
       "<polygon fill=\"black\" stroke=\"black\" points=\"968.41,-103.91 958.29,-107.04 968.15,-110.91 968.41,-103.91\"/>\n",
       "<text text-anchor=\"middle\" x=\"1398.74\" y=\"-144.8\" font-family=\"Times New Roman,serif\" font-size=\"14.00\">type</text>\n",
       "</g>\n",
       "<!-- Reino de España -->\n",
       "<g id=\"node18\" class=\"node\">\n",
       "<title>Reino de España</title>\n",
       "<ellipse fill=\"none\" stroke=\"black\" cx=\"1577.74\" cy=\"-105\" rx=\"70.39\" ry=\"18\"/>\n",
       "<text text-anchor=\"middle\" x=\"1577.74\" y=\"-101.3\" font-family=\"Times New Roman,serif\" font-size=\"14.00\">Reino de España</text>\n",
       "</g>\n",
       "<!-- Spain&#45;&gt;Reino de España -->\n",
       "<g id=\"edge21\" class=\"edge\">\n",
       "<title>Spain&#45;&gt;Reino de España</title>\n",
       "<path fill=\"none\" stroke=\"black\" d=\"M1527.4,-175.01C1536.41,-162.67 1549.04,-145.35 1559.39,-131.15\"/>\n",
       "<polygon fill=\"black\" stroke=\"black\" points=\"1562.43,-132.93 1565.5,-122.79 1556.77,-128.81 1562.43,-132.93\"/>\n",
       "<text text-anchor=\"middle\" x=\"1576.74\" y=\"-144.8\" font-family=\"Times New Roman,serif\" font-size=\"14.00\">hasName</text>\n",
       "</g>\n",
       "<!-- Madrid -->\n",
       "<g id=\"node19\" class=\"node\">\n",
       "<title>Madrid</title>\n",
       "<ellipse fill=\"none\" stroke=\"black\" cx=\"1452.74\" cy=\"-105\" rx=\"37.09\" ry=\"18\"/>\n",
       "<text text-anchor=\"middle\" x=\"1452.74\" y=\"-101.3\" font-family=\"Times New Roman,serif\" font-size=\"14.00\">Madrid</text>\n",
       "</g>\n",
       "<!-- Spain&#45;&gt;Madrid -->\n",
       "<g id=\"edge22\" class=\"edge\">\n",
       "<title>Spain&#45;&gt;Madrid</title>\n",
       "<path fill=\"none\" stroke=\"black\" d=\"M1499.99,-176.41C1493.92,-170.39 1487.16,-163.16 1481.74,-156 1476.08,-148.53 1470.69,-139.85 1466.12,-131.84\"/>\n",
       "<polygon fill=\"black\" stroke=\"black\" points=\"1469.07,-129.93 1461.18,-122.86 1462.93,-133.3 1469.07,-129.93\"/>\n",
       "<text text-anchor=\"middle\" x=\"1510.74\" y=\"-144.8\" font-family=\"Times New Roman,serif\" font-size=\"14.00\">hasCapital</text>\n",
       "</g>\n",
       "<!-- USA -->\n",
       "<g id=\"node3\" class=\"node\">\n",
       "<title>USA</title>\n",
       "<ellipse fill=\"none\" stroke=\"black\" cx=\"284.74\" cy=\"-192\" rx=\"28.7\" ry=\"18\"/>\n",
       "<text text-anchor=\"middle\" x=\"284.74\" y=\"-188.3\" font-family=\"Times New Roman,serif\" font-size=\"14.00\">USA</text>\n",
       "</g>\n",
       "<!-- USA&#45;&gt;Country -->\n",
       "<g id=\"edge9\" class=\"edge\">\n",
       "<title>USA&#45;&gt;Country</title>\n",
       "<path fill=\"none\" stroke=\"black\" d=\"M308.58,-181.93C317.05,-179 326.72,-176.01 335.74,-174 339.02,-173.27 731.93,-127.67 870.8,-111.56\"/>\n",
       "<polygon fill=\"black\" stroke=\"black\" points=\"871.2,-115.04 880.73,-110.41 870.4,-108.08 871.2,-115.04\"/>\n",
       "<text text-anchor=\"middle\" x=\"623.74\" y=\"-144.8\" font-family=\"Times New Roman,serif\" font-size=\"14.00\">type</text>\n",
       "</g>\n",
       "<!-- United States of America -->\n",
       "<g id=\"node4\" class=\"node\">\n",
       "<title>United States of America</title>\n",
       "<ellipse fill=\"none\" stroke=\"black\" cx=\"100.74\" cy=\"-105\" rx=\"100.98\" ry=\"18\"/>\n",
       "<text text-anchor=\"middle\" x=\"100.74\" y=\"-101.3\" font-family=\"Times New Roman,serif\" font-size=\"14.00\">United States of America</text>\n",
       "</g>\n",
       "<!-- USA&#45;&gt;United States of America -->\n",
       "<g id=\"edge2\" class=\"edge\">\n",
       "<title>USA&#45;&gt;United States of America</title>\n",
       "<path fill=\"none\" stroke=\"black\" d=\"M262.18,-180.58C233.11,-167.15 181.92,-143.5 144.97,-126.43\"/>\n",
       "<polygon fill=\"black\" stroke=\"black\" points=\"145.98,-123.04 135.43,-122.03 143.04,-129.4 145.98,-123.04\"/>\n",
       "<text text-anchor=\"middle\" x=\"230.74\" y=\"-144.8\" font-family=\"Times New Roman,serif\" font-size=\"14.00\">hasName</text>\n",
       "</g>\n",
       "<!-- WashingtonDC -->\n",
       "<g id=\"node20\" class=\"node\">\n",
       "<title>WashingtonDC</title>\n",
       "<ellipse fill=\"none\" stroke=\"black\" cx=\"284.74\" cy=\"-105\" rx=\"64.99\" ry=\"18\"/>\n",
       "<text text-anchor=\"middle\" x=\"284.74\" y=\"-101.3\" font-family=\"Times New Roman,serif\" font-size=\"14.00\">WashingtonDC</text>\n",
       "</g>\n",
       "<!-- USA&#45;&gt;WashingtonDC -->\n",
       "<g id=\"edge23\" class=\"edge\">\n",
       "<title>USA&#45;&gt;WashingtonDC</title>\n",
       "<path fill=\"none\" stroke=\"black\" d=\"M284.74,-173.8C284.74,-162.16 284.74,-146.55 284.74,-133.24\"/>\n",
       "<polygon fill=\"black\" stroke=\"black\" points=\"288.24,-133.18 284.74,-123.18 281.24,-133.18 288.24,-133.18\"/>\n",
       "<text text-anchor=\"middle\" x=\"313.74\" y=\"-144.8\" font-family=\"Times New Roman,serif\" font-size=\"14.00\">hasCapital</text>\n",
       "</g>\n",
       "<!-- Netherlands -->\n",
       "<g id=\"node5\" class=\"node\">\n",
       "<title>Netherlands</title>\n",
       "<ellipse fill=\"none\" stroke=\"black\" cx=\"781.74\" cy=\"-279\" rx=\"53.09\" ry=\"18\"/>\n",
       "<text text-anchor=\"middle\" x=\"781.74\" y=\"-275.3\" font-family=\"Times New Roman,serif\" font-size=\"14.00\">Netherlands</text>\n",
       "</g>\n",
       "<!-- Netherlands&#45;&gt;Country -->\n",
       "<g id=\"edge11\" class=\"edge\">\n",
       "<title>Netherlands&#45;&gt;Country</title>\n",
       "<path fill=\"none\" stroke=\"black\" d=\"M799.17,-261.95C804.63,-256.32 810.37,-249.72 814.74,-243 832.89,-215.12 824.52,-201.15 843.74,-174 856.51,-155.97 874.82,-139.25 890.16,-126.9\"/>\n",
       "<polygon fill=\"black\" stroke=\"black\" points=\"892.6,-129.43 898.32,-120.51 888.29,-123.92 892.6,-129.43\"/>\n",
       "<text text-anchor=\"middle\" x=\"855.74\" y=\"-188.3\" font-family=\"Times New Roman,serif\" font-size=\"14.00\">type</text>\n",
       "</g>\n",
       "<!-- The Netherlands -->\n",
       "<g id=\"node6\" class=\"node\">\n",
       "<title>The Netherlands</title>\n",
       "<ellipse fill=\"none\" stroke=\"black\" cx=\"728.74\" cy=\"-192\" rx=\"69.59\" ry=\"18\"/>\n",
       "<text text-anchor=\"middle\" x=\"728.74\" y=\"-188.3\" font-family=\"Times New Roman,serif\" font-size=\"14.00\">The Netherlands</text>\n",
       "</g>\n",
       "<!-- Netherlands&#45;&gt;The Netherlands -->\n",
       "<g id=\"edge3\" class=\"edge\">\n",
       "<title>Netherlands&#45;&gt;The Netherlands</title>\n",
       "<path fill=\"none\" stroke=\"black\" d=\"M771.27,-261.21C763.7,-249.06 753.33,-232.43 744.72,-218.63\"/>\n",
       "<polygon fill=\"black\" stroke=\"black\" points=\"747.63,-216.68 739.37,-210.05 741.69,-220.39 747.63,-216.68\"/>\n",
       "<text text-anchor=\"middle\" x=\"784.74\" y=\"-231.8\" font-family=\"Times New Roman,serif\" font-size=\"14.00\">hasName</text>\n",
       "</g>\n",
       "<!-- Amsterdam -->\n",
       "<g id=\"node9\" class=\"node\">\n",
       "<title>Amsterdam</title>\n",
       "<ellipse fill=\"none\" stroke=\"black\" cx=\"459.74\" cy=\"-192\" rx=\"52.79\" ry=\"18\"/>\n",
       "<text text-anchor=\"middle\" x=\"459.74\" y=\"-188.3\" font-family=\"Times New Roman,serif\" font-size=\"14.00\">Amsterdam</text>\n",
       "</g>\n",
       "<!-- Netherlands&#45;&gt;Amsterdam -->\n",
       "<g id=\"edge5\" class=\"edge\">\n",
       "<title>Netherlands&#45;&gt;Amsterdam</title>\n",
       "<path fill=\"none\" stroke=\"black\" d=\"M740.72,-267.43C689.45,-254.19 599.03,-230.7 521.74,-210 517.68,-208.91 513.47,-207.78 509.24,-206.63\"/>\n",
       "<polygon fill=\"black\" stroke=\"black\" points=\"509.98,-203.2 499.41,-203.95 508.14,-209.96 509.98,-203.2\"/>\n",
       "<text text-anchor=\"middle\" x=\"671.74\" y=\"-231.8\" font-family=\"Times New Roman,serif\" font-size=\"14.00\">hasCapital</text>\n",
       "</g>\n",
       "<!-- Belgium -->\n",
       "<g id=\"node10\" class=\"node\">\n",
       "<title>Belgium</title>\n",
       "<ellipse fill=\"none\" stroke=\"black\" cx=\"918.74\" cy=\"-192\" rx=\"41.69\" ry=\"18\"/>\n",
       "<text text-anchor=\"middle\" x=\"918.74\" y=\"-188.3\" font-family=\"Times New Roman,serif\" font-size=\"14.00\">Belgium</text>\n",
       "</g>\n",
       "<!-- Netherlands&#45;&gt;Belgium -->\n",
       "<g id=\"edge6\" class=\"edge\">\n",
       "<title>Netherlands&#45;&gt;Belgium</title>\n",
       "<path fill=\"none\" stroke=\"black\" d=\"M810.92,-263.87C822.85,-257.81 836.66,-250.42 848.74,-243 863.11,-234.17 878.43,-223.4 891.06,-214.12\"/>\n",
       "<polygon fill=\"black\" stroke=\"black\" points=\"893.39,-216.75 899.33,-207.98 889.21,-211.13 893.39,-216.75\"/>\n",
       "<text text-anchor=\"middle\" x=\"901.24\" y=\"-231.8\" font-family=\"Times New Roman,serif\" font-size=\"14.00\">neighbours</text>\n",
       "</g>\n",
       "<!-- containsCity -->\n",
       "<g id=\"node7\" class=\"node\">\n",
       "<title>containsCity</title>\n",
       "<ellipse fill=\"none\" stroke=\"black\" cx=\"585.74\" cy=\"-192\" rx=\"55.49\" ry=\"18\"/>\n",
       "<text text-anchor=\"middle\" x=\"585.74\" y=\"-188.3\" font-family=\"Times New Roman,serif\" font-size=\"14.00\">containsCity</text>\n",
       "</g>\n",
       "<!-- containsCity&#45;&gt;Country -->\n",
       "<g id=\"edge7\" class=\"edge\">\n",
       "<title>containsCity&#45;&gt;Country</title>\n",
       "<path fill=\"none\" stroke=\"black\" d=\"M627.04,-179.97C634.59,-177.97 642.4,-175.91 649.74,-174 729,-153.34 821.65,-130.12 874.93,-116.86\"/>\n",
       "<polygon fill=\"black\" stroke=\"black\" points=\"875.87,-120.24 884.73,-114.43 874.18,-113.44 875.87,-120.24\"/>\n",
       "<text text-anchor=\"middle\" x=\"796.74\" y=\"-144.8\" font-family=\"Times New Roman,serif\" font-size=\"14.00\">domain</text>\n",
       "</g>\n",
       "<!-- City -->\n",
       "<g id=\"node8\" class=\"node\">\n",
       "<title>City</title>\n",
       "<ellipse fill=\"none\" stroke=\"black\" cx=\"512.74\" cy=\"-18\" rx=\"27\" ry=\"18\"/>\n",
       "<text text-anchor=\"middle\" x=\"512.74\" y=\"-14.3\" font-family=\"Times New Roman,serif\" font-size=\"14.00\">City</text>\n",
       "</g>\n",
       "<!-- containsCity&#45;&gt;City -->\n",
       "<g id=\"edge4\" class=\"edge\">\n",
       "<title>containsCity&#45;&gt;City</title>\n",
       "<path fill=\"none\" stroke=\"black\" d=\"M585.73,-173.61C584.95,-146.18 580.26,-92.05 556.74,-54 552.65,-47.38 546.83,-41.49 540.77,-36.51\"/>\n",
       "<polygon fill=\"black\" stroke=\"black\" points=\"542.59,-33.5 532.48,-30.31 538.4,-39.11 542.59,-33.5\"/>\n",
       "<text text-anchor=\"middle\" x=\"596.24\" y=\"-101.3\" font-family=\"Times New Roman,serif\" font-size=\"14.00\">range</text>\n",
       "</g>\n",
       "<!-- Capital -->\n",
       "<g id=\"node12\" class=\"node\">\n",
       "<title>Capital</title>\n",
       "<ellipse fill=\"none\" stroke=\"black\" cx=\"459.74\" cy=\"-105\" rx=\"36.29\" ry=\"18\"/>\n",
       "<text text-anchor=\"middle\" x=\"459.74\" y=\"-101.3\" font-family=\"Times New Roman,serif\" font-size=\"14.00\">Capital</text>\n",
       "</g>\n",
       "<!-- Amsterdam&#45;&gt;Capital -->\n",
       "<g id=\"edge20\" class=\"edge\">\n",
       "<title>Amsterdam&#45;&gt;Capital</title>\n",
       "<path fill=\"none\" stroke=\"black\" d=\"M459.74,-173.8C459.74,-162.16 459.74,-146.55 459.74,-133.24\"/>\n",
       "<polygon fill=\"black\" stroke=\"black\" points=\"463.24,-133.18 459.74,-123.18 456.24,-133.18 463.24,-133.18\"/>\n",
       "<text text-anchor=\"middle\" x=\"471.74\" y=\"-144.8\" font-family=\"Times New Roman,serif\" font-size=\"14.00\">type</text>\n",
       "</g>\n",
       "<!-- Belgium&#45;&gt;Country -->\n",
       "<g id=\"edge18\" class=\"edge\">\n",
       "<title>Belgium&#45;&gt;Country</title>\n",
       "<path fill=\"none\" stroke=\"black\" d=\"M918.74,-173.8C918.74,-162.16 918.74,-146.55 918.74,-133.24\"/>\n",
       "<polygon fill=\"black\" stroke=\"black\" points=\"922.24,-133.18 918.74,-123.18 915.24,-133.18 922.24,-133.18\"/>\n",
       "<text text-anchor=\"middle\" x=\"930.74\" y=\"-144.8\" font-family=\"Times New Roman,serif\" font-size=\"14.00\">type</text>\n",
       "</g>\n",
       "<!-- hasCapital -->\n",
       "<g id=\"node11\" class=\"node\">\n",
       "<title>hasCapital</title>\n",
       "<ellipse fill=\"none\" stroke=\"black\" cx=\"393.74\" cy=\"-279\" rx=\"48.19\" ry=\"18\"/>\n",
       "<text text-anchor=\"middle\" x=\"393.74\" y=\"-275.3\" font-family=\"Times New Roman,serif\" font-size=\"14.00\">hasCapital</text>\n",
       "</g>\n",
       "<!-- hasCapital&#45;&gt;containsCity -->\n",
       "<g id=\"edge17\" class=\"edge\">\n",
       "<title>hasCapital&#45;&gt;containsCity</title>\n",
       "<path fill=\"none\" stroke=\"black\" d=\"M423.74,-264.72C456.37,-250.27 508.71,-227.1 545.03,-211.02\"/>\n",
       "<polygon fill=\"black\" stroke=\"black\" points=\"546.63,-214.14 554.36,-206.89 543.8,-207.74 546.63,-214.14\"/>\n",
       "<text text-anchor=\"middle\" x=\"541.74\" y=\"-231.8\" font-family=\"Times New Roman,serif\" font-size=\"14.00\">subPropertyOf</text>\n",
       "</g>\n",
       "<!-- hasCapital&#45;&gt;Capital -->\n",
       "<g id=\"edge8\" class=\"edge\">\n",
       "<title>hasCapital&#45;&gt;Capital</title>\n",
       "<path fill=\"none\" stroke=\"black\" d=\"M382.46,-261.37C369.6,-240.15 352.13,-202.78 366.74,-174 378.65,-150.54 402.87,-133.24 423.61,-121.96\"/>\n",
       "<polygon fill=\"black\" stroke=\"black\" points=\"425.26,-125.04 432.54,-117.34 422.05,-118.82 425.26,-125.04\"/>\n",
       "<text text-anchor=\"middle\" x=\"382.24\" y=\"-188.3\" font-family=\"Times New Roman,serif\" font-size=\"14.00\">range</text>\n",
       "</g>\n",
       "<!-- Capital&#45;&gt;City -->\n",
       "<g id=\"edge12\" class=\"edge\">\n",
       "<title>Capital&#45;&gt;City</title>\n",
       "<path fill=\"none\" stroke=\"black\" d=\"M469.96,-87.61C477.71,-75.19 488.49,-57.9 497.29,-43.78\"/>\n",
       "<polygon fill=\"black\" stroke=\"black\" points=\"500.41,-45.39 502.73,-35.05 494.47,-41.68 500.41,-45.39\"/>\n",
       "<text text-anchor=\"middle\" x=\"521.24\" y=\"-57.8\" font-family=\"Times New Roman,serif\" font-size=\"14.00\">subClassOf</text>\n",
       "</g>\n",
       "<!-- Portugal -->\n",
       "<g id=\"node13\" class=\"node\">\n",
       "<title>Portugal</title>\n",
       "<ellipse fill=\"none\" stroke=\"black\" cx=\"1360.74\" cy=\"-279\" rx=\"40.09\" ry=\"18\"/>\n",
       "<text text-anchor=\"middle\" x=\"1360.74\" y=\"-275.3\" font-family=\"Times New Roman,serif\" font-size=\"14.00\">Portugal</text>\n",
       "</g>\n",
       "<!-- Portugal&#45;&gt;Spain -->\n",
       "<g id=\"edge14\" class=\"edge\">\n",
       "<title>Portugal&#45;&gt;Spain</title>\n",
       "<path fill=\"none\" stroke=\"black\" d=\"M1395.88,-269.93C1416.33,-264.28 1442.07,-255.49 1462.74,-243 1474.87,-235.67 1486.54,-225.18 1495.82,-215.7\"/>\n",
       "<polygon fill=\"black\" stroke=\"black\" points=\"1498.4,-218.06 1502.72,-208.39 1493.31,-213.26 1498.4,-218.06\"/>\n",
       "<text text-anchor=\"middle\" x=\"1513.24\" y=\"-231.8\" font-family=\"Times New Roman,serif\" font-size=\"14.00\">neighbours</text>\n",
       "</g>\n",
       "<!-- Portugal&#45;&gt;Country -->\n",
       "<g id=\"edge19\" class=\"edge\">\n",
       "<title>Portugal&#45;&gt;Country</title>\n",
       "<path fill=\"none\" stroke=\"black\" d=\"M1325.19,-270.36C1285.17,-260.66 1219.28,-241.31 1169.74,-210 1150.61,-197.91 1152.35,-186.87 1133.74,-174 1104.46,-153.75 1094.39,-152.64 1060.74,-141 1029.22,-130.09 992.66,-121.16 964.53,-115.05\"/>\n",
       "<polygon fill=\"black\" stroke=\"black\" points=\"965.08,-111.59 954.57,-112.93 963.62,-118.44 965.08,-111.59\"/>\n",
       "<text text-anchor=\"middle\" x=\"1181.74\" y=\"-188.3\" font-family=\"Times New Roman,serif\" font-size=\"14.00\">type</text>\n",
       "</g>\n",
       "<!-- Lisbon -->\n",
       "<g id=\"node14\" class=\"node\">\n",
       "<title>Lisbon</title>\n",
       "<ellipse fill=\"none\" stroke=\"black\" cx=\"1431.74\" cy=\"-192\" rx=\"35.19\" ry=\"18\"/>\n",
       "<text text-anchor=\"middle\" x=\"1431.74\" y=\"-188.3\" font-family=\"Times New Roman,serif\" font-size=\"14.00\">Lisbon</text>\n",
       "</g>\n",
       "<!-- Portugal&#45;&gt;Lisbon -->\n",
       "<g id=\"edge10\" class=\"edge\">\n",
       "<title>Portugal&#45;&gt;Lisbon</title>\n",
       "<path fill=\"none\" stroke=\"black\" d=\"M1374.1,-262.01C1384.71,-249.31 1399.71,-231.34 1411.75,-216.93\"/>\n",
       "<polygon fill=\"black\" stroke=\"black\" points=\"1414.72,-218.83 1418.45,-208.92 1409.35,-214.35 1414.72,-218.83\"/>\n",
       "<text text-anchor=\"middle\" x=\"1429.74\" y=\"-231.8\" font-family=\"Times New Roman,serif\" font-size=\"14.00\">hasCapital</text>\n",
       "</g>\n",
       "<!-- República Portuguesa -->\n",
       "<g id=\"node15\" class=\"node\">\n",
       "<title>República Portuguesa</title>\n",
       "<ellipse fill=\"none\" stroke=\"black\" cx=\"1290.74\" cy=\"-192\" rx=\"87.99\" ry=\"18\"/>\n",
       "<text text-anchor=\"middle\" x=\"1290.74\" y=\"-188.3\" font-family=\"Times New Roman,serif\" font-size=\"14.00\">República Portuguesa</text>\n",
       "</g>\n",
       "<!-- Portugal&#45;&gt;República Portuguesa -->\n",
       "<g id=\"edge13\" class=\"edge\">\n",
       "<title>Portugal&#45;&gt;República Portuguesa</title>\n",
       "<path fill=\"none\" stroke=\"black\" d=\"M1347.24,-261.61C1337.02,-249.19 1322.79,-231.91 1311.17,-217.8\"/>\n",
       "<polygon fill=\"black\" stroke=\"black\" points=\"1313.73,-215.41 1304.68,-209.92 1308.33,-219.86 1313.73,-215.41\"/>\n",
       "<text text-anchor=\"middle\" x=\"1356.74\" y=\"-231.8\" font-family=\"Times New Roman,serif\" font-size=\"14.00\">hasName</text>\n",
       "</g>\n",
       "<!-- EuropeanCountry -->\n",
       "<g id=\"node16\" class=\"node\">\n",
       "<title>EuropeanCountry</title>\n",
       "<ellipse fill=\"none\" stroke=\"black\" cx=\"1051.74\" cy=\"-192\" rx=\"73.39\" ry=\"18\"/>\n",
       "<text text-anchor=\"middle\" x=\"1051.74\" y=\"-188.3\" font-family=\"Times New Roman,serif\" font-size=\"14.00\">EuropeanCountry</text>\n",
       "</g>\n",
       "<!-- EuropeanCountry&#45;&gt;Country -->\n",
       "<g id=\"edge15\" class=\"edge\">\n",
       "<title>EuropeanCountry&#45;&gt;Country</title>\n",
       "<path fill=\"none\" stroke=\"black\" d=\"M1026.72,-175.01C1004.84,-161.03 972.97,-140.66 949.53,-125.68\"/>\n",
       "<polygon fill=\"black\" stroke=\"black\" points=\"951.3,-122.66 940.99,-120.22 947.53,-128.56 951.3,-122.66\"/>\n",
       "<text text-anchor=\"middle\" x=\"1025.24\" y=\"-144.8\" font-family=\"Times New Roman,serif\" font-size=\"14.00\">subClassOf</text>\n",
       "</g>\n",
       "<!-- Germany -->\n",
       "<g id=\"node17\" class=\"node\">\n",
       "<title>Germany</title>\n",
       "<ellipse fill=\"none\" stroke=\"black\" cx=\"1051.74\" cy=\"-279\" rx=\"44.39\" ry=\"18\"/>\n",
       "<text text-anchor=\"middle\" x=\"1051.74\" y=\"-275.3\" font-family=\"Times New Roman,serif\" font-size=\"14.00\">Germany</text>\n",
       "</g>\n",
       "<!-- Germany&#45;&gt;EuropeanCountry -->\n",
       "<g id=\"edge16\" class=\"edge\">\n",
       "<title>Germany&#45;&gt;EuropeanCountry</title>\n",
       "<path fill=\"none\" stroke=\"black\" d=\"M1051.74,-260.8C1051.74,-249.16 1051.74,-233.55 1051.74,-220.24\"/>\n",
       "<polygon fill=\"black\" stroke=\"black\" points=\"1055.24,-220.18 1051.74,-210.18 1048.24,-220.18 1055.24,-220.18\"/>\n",
       "<text text-anchor=\"middle\" x=\"1063.74\" y=\"-231.8\" font-family=\"Times New Roman,serif\" font-size=\"14.00\">type</text>\n",
       "</g>\n",
       "</g>\n",
       "</svg>\n"
      ],
      "text/plain": [
       "<graphviz.graphs.Digraph at 0x1eb528eaa70>"
      ]
     },
     "execution_count": 37,
     "metadata": {},
     "output_type": "execute_result"
    }
   ],
   "source": [
    "print(dot.source)\n",
    "dot"
   ]
  },
  {
   "cell_type": "markdown",
   "metadata": {},
   "source": [
    "### - Task 3b: (1 Point) From RDF to .dot with \"semantic information\""
   ]
  },
  {
   "cell_type": "markdown",
   "metadata": {},
   "source": [
    "There is a conceptual distinction between properties, instances and classes (sets of instances). A simple way of checking is the following\n",
    "\n",
    "1. in a triple (s a o), with predicate a (which is a special abbreviation for the predicate rdf:type), the s is an Instance, and o is a Class. \n",
    "2. in a triple (s rdfs:subClassOf o) both s and o are Classes. \n",
    "3. in a triple (p rdfs:domain o) p is a Property and o is a Class. \n",
    "4. in a triple (p rdfs:range o)  p is a Property and o is a Class. \n",
    "\n",
    "Update the .dot representation for your RDF graph that distinguishes between types of links (RDF vocabulary vs others) and types of nodes (Classes versus Entities versus Literals) via different colors. Hint: you can use the 'color' attribute in the ```node``` and ```edge``` function.\n",
    "\n",
    "Check how your graph looks once finished."
   ]
  },
  {
   "cell_type": "code",
   "execution_count": 38,
   "metadata": {},
   "outputs": [
    {
     "name": "stdout",
     "output_type": "stream",
     "text": [
      "strict digraph {\n",
      "\tgraph [dpi=52]\n",
      "\tSpain -> Country [label=type]\n",
      "\tUSA -> \"United States of America\" [label=hasName]\n",
      "\tNetherlands -> \"The Netherlands\" [label=hasName]\n",
      "\tcontainsCity -> City [label=range]\n",
      "\tNetherlands -> Amsterdam [label=hasCapital]\n",
      "\tNetherlands -> Belgium [label=neighbours]\n",
      "\tcontainsCity -> Country [label=domain]\n",
      "\thasCapital -> Capital [label=range]\n",
      "\tUSA -> Country [label=type]\n",
      "\tPortugal -> Lisbon [label=hasCapital]\n",
      "\tNetherlands -> Country [label=type]\n",
      "\tCapital -> City [label=subClassOf]\n",
      "\tPortugal -> \"República Portuguesa\" [label=hasName]\n",
      "\tPortugal -> Spain [label=neighbours]\n",
      "\tEuropeanCountry -> Country [label=subClassOf]\n",
      "\tGermany -> EuropeanCountry [label=type]\n",
      "\thasCapital -> containsCity [label=subPropertyOf]\n",
      "\tBelgium -> Country [label=type]\n",
      "\tPortugal -> Country [label=type]\n",
      "\tAmsterdam -> Capital [label=type]\n",
      "\tSpain -> \"Reino de España\" [label=hasName]\n",
      "\tSpain -> Madrid [label=hasCapital]\n",
      "\tUSA -> WashingtonDC [label=hasCapital]\n",
      "\tSpain -> Country\n",
      "\tSpain -> Country [color=green]\n",
      "\tSpain -> Country [color=red]\n",
      "\tSpain [color=yellow]\n",
      "\tCountry [color=blue]\n",
      "\tUSA -> \"United States of America\"\n",
      "\t\"United States of America\" [color=purple]\n",
      "\tUSA -> \"United States of America\" [color=green]\n",
      "\tNetherlands -> \"The Netherlands\"\n",
      "\t\"The Netherlands\" [color=purple]\n",
      "\tNetherlands -> \"The Netherlands\" [color=green]\n",
      "\tcontainsCity -> City\n",
      "\tcontainsCity -> City [color=green]\n",
      "\tcontainsCity [color=orange]\n",
      "\tCity [color=blue]\n",
      "\tNetherlands -> Amsterdam\n",
      "\tNetherlands -> Amsterdam [color=green]\n",
      "\tNetherlands -> Belgium\n",
      "\tNetherlands -> Belgium [color=green]\n",
      "\tcontainsCity -> Country\n",
      "\tcontainsCity -> Country [color=green]\n",
      "\tcontainsCity [color=orange]\n",
      "\tCountry [color=blue]\n",
      "\thasCapital -> Capital\n",
      "\thasCapital -> Capital [color=green]\n",
      "\thasCapital [color=orange]\n",
      "\tCapital [color=blue]\n",
      "\tUSA -> Country\n",
      "\tUSA -> Country [color=green]\n",
      "\tUSA -> Country [color=red]\n",
      "\tUSA [color=yellow]\n",
      "\tCountry [color=blue]\n",
      "\tPortugal -> Lisbon\n",
      "\tPortugal -> Lisbon [color=green]\n",
      "\tNetherlands -> Country\n",
      "\tNetherlands -> Country [color=green]\n",
      "\tNetherlands -> Country [color=red]\n",
      "\tNetherlands [color=yellow]\n",
      "\tCountry [color=blue]\n",
      "\tCapital -> City\n",
      "\tCapital -> City [color=green]\n",
      "\tCapital [color=blue]\n",
      "\tCity [color=blue]\n",
      "\tPortugal -> \"República Portuguesa\"\n",
      "\t\"República Portuguesa\" [color=purple]\n",
      "\tPortugal -> \"República Portuguesa\" [color=green]\n",
      "\tPortugal -> Spain\n",
      "\tPortugal -> Spain [color=green]\n",
      "\tEuropeanCountry -> Country\n",
      "\tEuropeanCountry -> Country [color=green]\n",
      "\tEuropeanCountry [color=blue]\n",
      "\tCountry [color=blue]\n",
      "\tGermany -> EuropeanCountry\n",
      "\tGermany -> EuropeanCountry [color=green]\n",
      "\tGermany -> EuropeanCountry [color=red]\n",
      "\tGermany [color=yellow]\n",
      "\tEuropeanCountry [color=blue]\n",
      "\thasCapital -> containsCity\n",
      "\thasCapital -> containsCity [color=green]\n",
      "\tBelgium -> Country\n",
      "\tBelgium -> Country [color=green]\n",
      "\tBelgium -> Country [color=red]\n",
      "\tBelgium [color=yellow]\n",
      "\tCountry [color=blue]\n",
      "\tPortugal -> Country\n",
      "\tPortugal -> Country [color=green]\n",
      "\tPortugal -> Country [color=red]\n",
      "\tPortugal [color=yellow]\n",
      "\tCountry [color=blue]\n",
      "\tAmsterdam -> Capital\n",
      "\tAmsterdam -> Capital [color=green]\n",
      "\tAmsterdam -> Capital [color=red]\n",
      "\tAmsterdam [color=yellow]\n",
      "\tCapital [color=blue]\n",
      "\tSpain -> \"Reino de España\"\n",
      "\t\"Reino de España\" [color=purple]\n",
      "\tSpain -> \"Reino de España\" [color=green]\n",
      "\tSpain -> Madrid\n",
      "\tSpain -> Madrid [color=green]\n",
      "\tUSA -> WashingtonDC\n",
      "\tUSA -> WashingtonDC [color=green]\n",
      "}\n",
      "\n"
     ]
    },
    {
     "data": {
      "image/svg+xml": [
       "<?xml version=\"1.0\" encoding=\"UTF-8\" standalone=\"no\"?>\n",
       "<!DOCTYPE svg PUBLIC \"-//W3C//DTD SVG 1.1//EN\"\n",
       " \"http://www.w3.org/Graphics/SVG/1.1/DTD/svg11.dtd\">\n",
       "<!-- Generated by graphviz version 2.50.0 (0)\n",
       " -->\n",
       "<!-- Pages: 1 -->\n",
       "<svg width=\"1196pt\" height=\"220pt\"\n",
       " viewBox=\"0.00 0.00 1655.93 305.00\" xmlns=\"http://www.w3.org/2000/svg\" xmlns:xlink=\"http://www.w3.org/1999/xlink\">\n",
       "<g id=\"graph0\" class=\"graph\" transform=\"scale(0.72 0.72) rotate(0) translate(4 301)\">\n",
       "<polygon fill=\"white\" stroke=\"transparent\" points=\"-4,4 -4,-301 1651.93,-301 1651.93,4 -4,4\"/>\n",
       "<!-- Spain -->\n",
       "<g id=\"node1\" class=\"node\">\n",
       "<title>Spain</title>\n",
       "<ellipse fill=\"none\" stroke=\"yellow\" cx=\"1515.74\" cy=\"-192\" rx=\"30.59\" ry=\"18\"/>\n",
       "<text text-anchor=\"middle\" x=\"1515.74\" y=\"-188.3\" font-family=\"Times New Roman,serif\" font-size=\"14.00\">Spain</text>\n",
       "</g>\n",
       "<!-- Country -->\n",
       "<g id=\"node2\" class=\"node\">\n",
       "<title>Country</title>\n",
       "<ellipse fill=\"none\" stroke=\"blue\" cx=\"918.74\" cy=\"-105\" rx=\"39.79\" ry=\"18\"/>\n",
       "<text text-anchor=\"middle\" x=\"918.74\" y=\"-101.3\" font-family=\"Times New Roman,serif\" font-size=\"14.00\">Country</text>\n",
       "</g>\n",
       "<!-- Spain&#45;&gt;Country -->\n",
       "<g id=\"edge1\" class=\"edge\">\n",
       "<title>Spain&#45;&gt;Country</title>\n",
       "<path fill=\"none\" stroke=\"red\" d=\"M1492.86,-179.98C1487.36,-177.7 1481.43,-175.52 1475.74,-174 1293.02,-125.06 1067.03,-111.24 968.54,-107.42\"/>\n",
       "<polygon fill=\"red\" stroke=\"red\" points=\"968.41,-103.91 958.29,-107.04 968.15,-110.91 968.41,-103.91\"/>\n",
       "<text text-anchor=\"middle\" x=\"1398.74\" y=\"-144.8\" font-family=\"Times New Roman,serif\" font-size=\"14.00\">type</text>\n",
       "</g>\n",
       "<!-- Reino de España -->\n",
       "<g id=\"node18\" class=\"node\">\n",
       "<title>Reino de España</title>\n",
       "<ellipse fill=\"none\" stroke=\"purple\" cx=\"1577.74\" cy=\"-105\" rx=\"70.39\" ry=\"18\"/>\n",
       "<text text-anchor=\"middle\" x=\"1577.74\" y=\"-101.3\" font-family=\"Times New Roman,serif\" font-size=\"14.00\">Reino de España</text>\n",
       "</g>\n",
       "<!-- Spain&#45;&gt;Reino de España -->\n",
       "<g id=\"edge21\" class=\"edge\">\n",
       "<title>Spain&#45;&gt;Reino de España</title>\n",
       "<path fill=\"none\" stroke=\"green\" d=\"M1527.4,-175.01C1536.41,-162.67 1549.04,-145.35 1559.39,-131.15\"/>\n",
       "<polygon fill=\"green\" stroke=\"green\" points=\"1562.43,-132.93 1565.5,-122.79 1556.77,-128.81 1562.43,-132.93\"/>\n",
       "<text text-anchor=\"middle\" x=\"1576.74\" y=\"-144.8\" font-family=\"Times New Roman,serif\" font-size=\"14.00\">hasName</text>\n",
       "</g>\n",
       "<!-- Madrid -->\n",
       "<g id=\"node19\" class=\"node\">\n",
       "<title>Madrid</title>\n",
       "<ellipse fill=\"none\" stroke=\"black\" cx=\"1452.74\" cy=\"-105\" rx=\"37.09\" ry=\"18\"/>\n",
       "<text text-anchor=\"middle\" x=\"1452.74\" y=\"-101.3\" font-family=\"Times New Roman,serif\" font-size=\"14.00\">Madrid</text>\n",
       "</g>\n",
       "<!-- Spain&#45;&gt;Madrid -->\n",
       "<g id=\"edge22\" class=\"edge\">\n",
       "<title>Spain&#45;&gt;Madrid</title>\n",
       "<path fill=\"none\" stroke=\"green\" d=\"M1499.99,-176.41C1493.92,-170.39 1487.16,-163.16 1481.74,-156 1476.08,-148.53 1470.69,-139.85 1466.12,-131.84\"/>\n",
       "<polygon fill=\"green\" stroke=\"green\" points=\"1469.07,-129.93 1461.18,-122.86 1462.93,-133.3 1469.07,-129.93\"/>\n",
       "<text text-anchor=\"middle\" x=\"1510.74\" y=\"-144.8\" font-family=\"Times New Roman,serif\" font-size=\"14.00\">hasCapital</text>\n",
       "</g>\n",
       "<!-- USA -->\n",
       "<g id=\"node3\" class=\"node\">\n",
       "<title>USA</title>\n",
       "<ellipse fill=\"none\" stroke=\"yellow\" cx=\"284.74\" cy=\"-192\" rx=\"28.7\" ry=\"18\"/>\n",
       "<text text-anchor=\"middle\" x=\"284.74\" y=\"-188.3\" font-family=\"Times New Roman,serif\" font-size=\"14.00\">USA</text>\n",
       "</g>\n",
       "<!-- USA&#45;&gt;Country -->\n",
       "<g id=\"edge9\" class=\"edge\">\n",
       "<title>USA&#45;&gt;Country</title>\n",
       "<path fill=\"none\" stroke=\"red\" d=\"M308.58,-181.93C317.05,-179 326.72,-176.01 335.74,-174 339.02,-173.27 731.93,-127.67 870.8,-111.56\"/>\n",
       "<polygon fill=\"red\" stroke=\"red\" points=\"871.2,-115.04 880.73,-110.41 870.4,-108.08 871.2,-115.04\"/>\n",
       "<text text-anchor=\"middle\" x=\"623.74\" y=\"-144.8\" font-family=\"Times New Roman,serif\" font-size=\"14.00\">type</text>\n",
       "</g>\n",
       "<!-- United States of America -->\n",
       "<g id=\"node4\" class=\"node\">\n",
       "<title>United States of America</title>\n",
       "<ellipse fill=\"none\" stroke=\"purple\" cx=\"100.74\" cy=\"-105\" rx=\"100.98\" ry=\"18\"/>\n",
       "<text text-anchor=\"middle\" x=\"100.74\" y=\"-101.3\" font-family=\"Times New Roman,serif\" font-size=\"14.00\">United States of America</text>\n",
       "</g>\n",
       "<!-- USA&#45;&gt;United States of America -->\n",
       "<g id=\"edge2\" class=\"edge\">\n",
       "<title>USA&#45;&gt;United States of America</title>\n",
       "<path fill=\"none\" stroke=\"green\" d=\"M262.18,-180.58C233.11,-167.15 181.92,-143.5 144.97,-126.43\"/>\n",
       "<polygon fill=\"green\" stroke=\"green\" points=\"145.98,-123.04 135.43,-122.03 143.04,-129.4 145.98,-123.04\"/>\n",
       "<text text-anchor=\"middle\" x=\"230.74\" y=\"-144.8\" font-family=\"Times New Roman,serif\" font-size=\"14.00\">hasName</text>\n",
       "</g>\n",
       "<!-- WashingtonDC -->\n",
       "<g id=\"node20\" class=\"node\">\n",
       "<title>WashingtonDC</title>\n",
       "<ellipse fill=\"none\" stroke=\"black\" cx=\"284.74\" cy=\"-105\" rx=\"64.99\" ry=\"18\"/>\n",
       "<text text-anchor=\"middle\" x=\"284.74\" y=\"-101.3\" font-family=\"Times New Roman,serif\" font-size=\"14.00\">WashingtonDC</text>\n",
       "</g>\n",
       "<!-- USA&#45;&gt;WashingtonDC -->\n",
       "<g id=\"edge23\" class=\"edge\">\n",
       "<title>USA&#45;&gt;WashingtonDC</title>\n",
       "<path fill=\"none\" stroke=\"green\" d=\"M284.74,-173.8C284.74,-162.16 284.74,-146.55 284.74,-133.24\"/>\n",
       "<polygon fill=\"green\" stroke=\"green\" points=\"288.24,-133.18 284.74,-123.18 281.24,-133.18 288.24,-133.18\"/>\n",
       "<text text-anchor=\"middle\" x=\"313.74\" y=\"-144.8\" font-family=\"Times New Roman,serif\" font-size=\"14.00\">hasCapital</text>\n",
       "</g>\n",
       "<!-- Netherlands -->\n",
       "<g id=\"node5\" class=\"node\">\n",
       "<title>Netherlands</title>\n",
       "<ellipse fill=\"none\" stroke=\"yellow\" cx=\"781.74\" cy=\"-279\" rx=\"53.09\" ry=\"18\"/>\n",
       "<text text-anchor=\"middle\" x=\"781.74\" y=\"-275.3\" font-family=\"Times New Roman,serif\" font-size=\"14.00\">Netherlands</text>\n",
       "</g>\n",
       "<!-- Netherlands&#45;&gt;Country -->\n",
       "<g id=\"edge11\" class=\"edge\">\n",
       "<title>Netherlands&#45;&gt;Country</title>\n",
       "<path fill=\"none\" stroke=\"red\" d=\"M799.17,-261.95C804.63,-256.32 810.37,-249.72 814.74,-243 832.89,-215.12 824.52,-201.15 843.74,-174 856.51,-155.97 874.82,-139.25 890.16,-126.9\"/>\n",
       "<polygon fill=\"red\" stroke=\"red\" points=\"892.6,-129.43 898.32,-120.51 888.29,-123.92 892.6,-129.43\"/>\n",
       "<text text-anchor=\"middle\" x=\"855.74\" y=\"-188.3\" font-family=\"Times New Roman,serif\" font-size=\"14.00\">type</text>\n",
       "</g>\n",
       "<!-- The Netherlands -->\n",
       "<g id=\"node6\" class=\"node\">\n",
       "<title>The Netherlands</title>\n",
       "<ellipse fill=\"none\" stroke=\"purple\" cx=\"728.74\" cy=\"-192\" rx=\"69.59\" ry=\"18\"/>\n",
       "<text text-anchor=\"middle\" x=\"728.74\" y=\"-188.3\" font-family=\"Times New Roman,serif\" font-size=\"14.00\">The Netherlands</text>\n",
       "</g>\n",
       "<!-- Netherlands&#45;&gt;The Netherlands -->\n",
       "<g id=\"edge3\" class=\"edge\">\n",
       "<title>Netherlands&#45;&gt;The Netherlands</title>\n",
       "<path fill=\"none\" stroke=\"green\" d=\"M771.27,-261.21C763.7,-249.06 753.33,-232.43 744.72,-218.63\"/>\n",
       "<polygon fill=\"green\" stroke=\"green\" points=\"747.63,-216.68 739.37,-210.05 741.69,-220.39 747.63,-216.68\"/>\n",
       "<text text-anchor=\"middle\" x=\"784.74\" y=\"-231.8\" font-family=\"Times New Roman,serif\" font-size=\"14.00\">hasName</text>\n",
       "</g>\n",
       "<!-- Amsterdam -->\n",
       "<g id=\"node9\" class=\"node\">\n",
       "<title>Amsterdam</title>\n",
       "<ellipse fill=\"none\" stroke=\"yellow\" cx=\"459.74\" cy=\"-192\" rx=\"52.79\" ry=\"18\"/>\n",
       "<text text-anchor=\"middle\" x=\"459.74\" y=\"-188.3\" font-family=\"Times New Roman,serif\" font-size=\"14.00\">Amsterdam</text>\n",
       "</g>\n",
       "<!-- Netherlands&#45;&gt;Amsterdam -->\n",
       "<g id=\"edge5\" class=\"edge\">\n",
       "<title>Netherlands&#45;&gt;Amsterdam</title>\n",
       "<path fill=\"none\" stroke=\"green\" d=\"M740.72,-267.43C689.45,-254.19 599.03,-230.7 521.74,-210 517.68,-208.91 513.47,-207.78 509.24,-206.63\"/>\n",
       "<polygon fill=\"green\" stroke=\"green\" points=\"509.98,-203.2 499.41,-203.95 508.14,-209.96 509.98,-203.2\"/>\n",
       "<text text-anchor=\"middle\" x=\"671.74\" y=\"-231.8\" font-family=\"Times New Roman,serif\" font-size=\"14.00\">hasCapital</text>\n",
       "</g>\n",
       "<!-- Belgium -->\n",
       "<g id=\"node10\" class=\"node\">\n",
       "<title>Belgium</title>\n",
       "<ellipse fill=\"none\" stroke=\"yellow\" cx=\"918.74\" cy=\"-192\" rx=\"41.69\" ry=\"18\"/>\n",
       "<text text-anchor=\"middle\" x=\"918.74\" y=\"-188.3\" font-family=\"Times New Roman,serif\" font-size=\"14.00\">Belgium</text>\n",
       "</g>\n",
       "<!-- Netherlands&#45;&gt;Belgium -->\n",
       "<g id=\"edge6\" class=\"edge\">\n",
       "<title>Netherlands&#45;&gt;Belgium</title>\n",
       "<path fill=\"none\" stroke=\"green\" d=\"M810.92,-263.87C822.85,-257.81 836.66,-250.42 848.74,-243 863.11,-234.17 878.43,-223.4 891.06,-214.12\"/>\n",
       "<polygon fill=\"green\" stroke=\"green\" points=\"893.39,-216.75 899.33,-207.98 889.21,-211.13 893.39,-216.75\"/>\n",
       "<text text-anchor=\"middle\" x=\"901.24\" y=\"-231.8\" font-family=\"Times New Roman,serif\" font-size=\"14.00\">neighbours</text>\n",
       "</g>\n",
       "<!-- containsCity -->\n",
       "<g id=\"node7\" class=\"node\">\n",
       "<title>containsCity</title>\n",
       "<ellipse fill=\"none\" stroke=\"orange\" cx=\"585.74\" cy=\"-192\" rx=\"55.49\" ry=\"18\"/>\n",
       "<text text-anchor=\"middle\" x=\"585.74\" y=\"-188.3\" font-family=\"Times New Roman,serif\" font-size=\"14.00\">containsCity</text>\n",
       "</g>\n",
       "<!-- containsCity&#45;&gt;Country -->\n",
       "<g id=\"edge7\" class=\"edge\">\n",
       "<title>containsCity&#45;&gt;Country</title>\n",
       "<path fill=\"none\" stroke=\"green\" d=\"M627.04,-179.97C634.59,-177.97 642.4,-175.91 649.74,-174 729,-153.34 821.65,-130.12 874.93,-116.86\"/>\n",
       "<polygon fill=\"green\" stroke=\"green\" points=\"875.87,-120.24 884.73,-114.43 874.18,-113.44 875.87,-120.24\"/>\n",
       "<text text-anchor=\"middle\" x=\"796.74\" y=\"-144.8\" font-family=\"Times New Roman,serif\" font-size=\"14.00\">domain</text>\n",
       "</g>\n",
       "<!-- City -->\n",
       "<g id=\"node8\" class=\"node\">\n",
       "<title>City</title>\n",
       "<ellipse fill=\"none\" stroke=\"blue\" cx=\"512.74\" cy=\"-18\" rx=\"27\" ry=\"18\"/>\n",
       "<text text-anchor=\"middle\" x=\"512.74\" y=\"-14.3\" font-family=\"Times New Roman,serif\" font-size=\"14.00\">City</text>\n",
       "</g>\n",
       "<!-- containsCity&#45;&gt;City -->\n",
       "<g id=\"edge4\" class=\"edge\">\n",
       "<title>containsCity&#45;&gt;City</title>\n",
       "<path fill=\"none\" stroke=\"green\" d=\"M585.73,-173.61C584.95,-146.18 580.26,-92.05 556.74,-54 552.65,-47.38 546.83,-41.49 540.77,-36.51\"/>\n",
       "<polygon fill=\"green\" stroke=\"green\" points=\"542.59,-33.5 532.48,-30.31 538.4,-39.11 542.59,-33.5\"/>\n",
       "<text text-anchor=\"middle\" x=\"596.24\" y=\"-101.3\" font-family=\"Times New Roman,serif\" font-size=\"14.00\">range</text>\n",
       "</g>\n",
       "<!-- Capital -->\n",
       "<g id=\"node12\" class=\"node\">\n",
       "<title>Capital</title>\n",
       "<ellipse fill=\"none\" stroke=\"blue\" cx=\"459.74\" cy=\"-105\" rx=\"36.29\" ry=\"18\"/>\n",
       "<text text-anchor=\"middle\" x=\"459.74\" y=\"-101.3\" font-family=\"Times New Roman,serif\" font-size=\"14.00\">Capital</text>\n",
       "</g>\n",
       "<!-- Amsterdam&#45;&gt;Capital -->\n",
       "<g id=\"edge20\" class=\"edge\">\n",
       "<title>Amsterdam&#45;&gt;Capital</title>\n",
       "<path fill=\"none\" stroke=\"red\" d=\"M459.74,-173.8C459.74,-162.16 459.74,-146.55 459.74,-133.24\"/>\n",
       "<polygon fill=\"red\" stroke=\"red\" points=\"463.24,-133.18 459.74,-123.18 456.24,-133.18 463.24,-133.18\"/>\n",
       "<text text-anchor=\"middle\" x=\"471.74\" y=\"-144.8\" font-family=\"Times New Roman,serif\" font-size=\"14.00\">type</text>\n",
       "</g>\n",
       "<!-- Belgium&#45;&gt;Country -->\n",
       "<g id=\"edge18\" class=\"edge\">\n",
       "<title>Belgium&#45;&gt;Country</title>\n",
       "<path fill=\"none\" stroke=\"red\" d=\"M918.74,-173.8C918.74,-162.16 918.74,-146.55 918.74,-133.24\"/>\n",
       "<polygon fill=\"red\" stroke=\"red\" points=\"922.24,-133.18 918.74,-123.18 915.24,-133.18 922.24,-133.18\"/>\n",
       "<text text-anchor=\"middle\" x=\"930.74\" y=\"-144.8\" font-family=\"Times New Roman,serif\" font-size=\"14.00\">type</text>\n",
       "</g>\n",
       "<!-- hasCapital -->\n",
       "<g id=\"node11\" class=\"node\">\n",
       "<title>hasCapital</title>\n",
       "<ellipse fill=\"none\" stroke=\"orange\" cx=\"393.74\" cy=\"-279\" rx=\"48.19\" ry=\"18\"/>\n",
       "<text text-anchor=\"middle\" x=\"393.74\" y=\"-275.3\" font-family=\"Times New Roman,serif\" font-size=\"14.00\">hasCapital</text>\n",
       "</g>\n",
       "<!-- hasCapital&#45;&gt;containsCity -->\n",
       "<g id=\"edge17\" class=\"edge\">\n",
       "<title>hasCapital&#45;&gt;containsCity</title>\n",
       "<path fill=\"none\" stroke=\"green\" d=\"M423.74,-264.72C456.37,-250.27 508.71,-227.1 545.03,-211.02\"/>\n",
       "<polygon fill=\"green\" stroke=\"green\" points=\"546.63,-214.14 554.36,-206.89 543.8,-207.74 546.63,-214.14\"/>\n",
       "<text text-anchor=\"middle\" x=\"541.74\" y=\"-231.8\" font-family=\"Times New Roman,serif\" font-size=\"14.00\">subPropertyOf</text>\n",
       "</g>\n",
       "<!-- hasCapital&#45;&gt;Capital -->\n",
       "<g id=\"edge8\" class=\"edge\">\n",
       "<title>hasCapital&#45;&gt;Capital</title>\n",
       "<path fill=\"none\" stroke=\"green\" d=\"M382.46,-261.37C369.6,-240.15 352.13,-202.78 366.74,-174 378.65,-150.54 402.87,-133.24 423.61,-121.96\"/>\n",
       "<polygon fill=\"green\" stroke=\"green\" points=\"425.26,-125.04 432.54,-117.34 422.05,-118.82 425.26,-125.04\"/>\n",
       "<text text-anchor=\"middle\" x=\"382.24\" y=\"-188.3\" font-family=\"Times New Roman,serif\" font-size=\"14.00\">range</text>\n",
       "</g>\n",
       "<!-- Capital&#45;&gt;City -->\n",
       "<g id=\"edge12\" class=\"edge\">\n",
       "<title>Capital&#45;&gt;City</title>\n",
       "<path fill=\"none\" stroke=\"green\" d=\"M469.96,-87.61C477.71,-75.19 488.49,-57.9 497.29,-43.78\"/>\n",
       "<polygon fill=\"green\" stroke=\"green\" points=\"500.41,-45.39 502.73,-35.05 494.47,-41.68 500.41,-45.39\"/>\n",
       "<text text-anchor=\"middle\" x=\"521.24\" y=\"-57.8\" font-family=\"Times New Roman,serif\" font-size=\"14.00\">subClassOf</text>\n",
       "</g>\n",
       "<!-- Portugal -->\n",
       "<g id=\"node13\" class=\"node\">\n",
       "<title>Portugal</title>\n",
       "<ellipse fill=\"none\" stroke=\"yellow\" cx=\"1360.74\" cy=\"-279\" rx=\"40.09\" ry=\"18\"/>\n",
       "<text text-anchor=\"middle\" x=\"1360.74\" y=\"-275.3\" font-family=\"Times New Roman,serif\" font-size=\"14.00\">Portugal</text>\n",
       "</g>\n",
       "<!-- Portugal&#45;&gt;Spain -->\n",
       "<g id=\"edge14\" class=\"edge\">\n",
       "<title>Portugal&#45;&gt;Spain</title>\n",
       "<path fill=\"none\" stroke=\"green\" d=\"M1395.88,-269.93C1416.33,-264.28 1442.07,-255.49 1462.74,-243 1474.87,-235.67 1486.54,-225.18 1495.82,-215.7\"/>\n",
       "<polygon fill=\"green\" stroke=\"green\" points=\"1498.4,-218.06 1502.72,-208.39 1493.31,-213.26 1498.4,-218.06\"/>\n",
       "<text text-anchor=\"middle\" x=\"1513.24\" y=\"-231.8\" font-family=\"Times New Roman,serif\" font-size=\"14.00\">neighbours</text>\n",
       "</g>\n",
       "<!-- Portugal&#45;&gt;Country -->\n",
       "<g id=\"edge19\" class=\"edge\">\n",
       "<title>Portugal&#45;&gt;Country</title>\n",
       "<path fill=\"none\" stroke=\"red\" d=\"M1325.19,-270.36C1285.17,-260.66 1219.28,-241.31 1169.74,-210 1150.61,-197.91 1152.35,-186.87 1133.74,-174 1104.46,-153.75 1094.39,-152.64 1060.74,-141 1029.22,-130.09 992.66,-121.16 964.53,-115.05\"/>\n",
       "<polygon fill=\"red\" stroke=\"red\" points=\"965.08,-111.59 954.57,-112.93 963.62,-118.44 965.08,-111.59\"/>\n",
       "<text text-anchor=\"middle\" x=\"1181.74\" y=\"-188.3\" font-family=\"Times New Roman,serif\" font-size=\"14.00\">type</text>\n",
       "</g>\n",
       "<!-- Lisbon -->\n",
       "<g id=\"node14\" class=\"node\">\n",
       "<title>Lisbon</title>\n",
       "<ellipse fill=\"none\" stroke=\"black\" cx=\"1431.74\" cy=\"-192\" rx=\"35.19\" ry=\"18\"/>\n",
       "<text text-anchor=\"middle\" x=\"1431.74\" y=\"-188.3\" font-family=\"Times New Roman,serif\" font-size=\"14.00\">Lisbon</text>\n",
       "</g>\n",
       "<!-- Portugal&#45;&gt;Lisbon -->\n",
       "<g id=\"edge10\" class=\"edge\">\n",
       "<title>Portugal&#45;&gt;Lisbon</title>\n",
       "<path fill=\"none\" stroke=\"green\" d=\"M1374.1,-262.01C1384.71,-249.31 1399.71,-231.34 1411.75,-216.93\"/>\n",
       "<polygon fill=\"green\" stroke=\"green\" points=\"1414.72,-218.83 1418.45,-208.92 1409.35,-214.35 1414.72,-218.83\"/>\n",
       "<text text-anchor=\"middle\" x=\"1429.74\" y=\"-231.8\" font-family=\"Times New Roman,serif\" font-size=\"14.00\">hasCapital</text>\n",
       "</g>\n",
       "<!-- República Portuguesa -->\n",
       "<g id=\"node15\" class=\"node\">\n",
       "<title>República Portuguesa</title>\n",
       "<ellipse fill=\"none\" stroke=\"purple\" cx=\"1290.74\" cy=\"-192\" rx=\"87.99\" ry=\"18\"/>\n",
       "<text text-anchor=\"middle\" x=\"1290.74\" y=\"-188.3\" font-family=\"Times New Roman,serif\" font-size=\"14.00\">República Portuguesa</text>\n",
       "</g>\n",
       "<!-- Portugal&#45;&gt;República Portuguesa -->\n",
       "<g id=\"edge13\" class=\"edge\">\n",
       "<title>Portugal&#45;&gt;República Portuguesa</title>\n",
       "<path fill=\"none\" stroke=\"green\" d=\"M1347.24,-261.61C1337.02,-249.19 1322.79,-231.91 1311.17,-217.8\"/>\n",
       "<polygon fill=\"green\" stroke=\"green\" points=\"1313.73,-215.41 1304.68,-209.92 1308.33,-219.86 1313.73,-215.41\"/>\n",
       "<text text-anchor=\"middle\" x=\"1356.74\" y=\"-231.8\" font-family=\"Times New Roman,serif\" font-size=\"14.00\">hasName</text>\n",
       "</g>\n",
       "<!-- EuropeanCountry -->\n",
       "<g id=\"node16\" class=\"node\">\n",
       "<title>EuropeanCountry</title>\n",
       "<ellipse fill=\"none\" stroke=\"blue\" cx=\"1051.74\" cy=\"-192\" rx=\"73.39\" ry=\"18\"/>\n",
       "<text text-anchor=\"middle\" x=\"1051.74\" y=\"-188.3\" font-family=\"Times New Roman,serif\" font-size=\"14.00\">EuropeanCountry</text>\n",
       "</g>\n",
       "<!-- EuropeanCountry&#45;&gt;Country -->\n",
       "<g id=\"edge15\" class=\"edge\">\n",
       "<title>EuropeanCountry&#45;&gt;Country</title>\n",
       "<path fill=\"none\" stroke=\"green\" d=\"M1026.72,-175.01C1004.84,-161.03 972.97,-140.66 949.53,-125.68\"/>\n",
       "<polygon fill=\"green\" stroke=\"green\" points=\"951.3,-122.66 940.99,-120.22 947.53,-128.56 951.3,-122.66\"/>\n",
       "<text text-anchor=\"middle\" x=\"1025.24\" y=\"-144.8\" font-family=\"Times New Roman,serif\" font-size=\"14.00\">subClassOf</text>\n",
       "</g>\n",
       "<!-- Germany -->\n",
       "<g id=\"node17\" class=\"node\">\n",
       "<title>Germany</title>\n",
       "<ellipse fill=\"none\" stroke=\"yellow\" cx=\"1051.74\" cy=\"-279\" rx=\"44.39\" ry=\"18\"/>\n",
       "<text text-anchor=\"middle\" x=\"1051.74\" y=\"-275.3\" font-family=\"Times New Roman,serif\" font-size=\"14.00\">Germany</text>\n",
       "</g>\n",
       "<!-- Germany&#45;&gt;EuropeanCountry -->\n",
       "<g id=\"edge16\" class=\"edge\">\n",
       "<title>Germany&#45;&gt;EuropeanCountry</title>\n",
       "<path fill=\"none\" stroke=\"red\" d=\"M1051.74,-260.8C1051.74,-249.16 1051.74,-233.55 1051.74,-220.24\"/>\n",
       "<polygon fill=\"red\" stroke=\"red\" points=\"1055.24,-220.18 1051.74,-210.18 1048.24,-220.18 1055.24,-220.18\"/>\n",
       "<text text-anchor=\"middle\" x=\"1063.74\" y=\"-231.8\" font-family=\"Times New Roman,serif\" font-size=\"14.00\">type</text>\n",
       "</g>\n",
       "</g>\n",
       "</svg>\n"
      ],
      "text/plain": [
       "<graphviz.graphs.Digraph at 0x1eb528eaa70>"
      ]
     },
     "execution_count": 38,
     "metadata": {},
     "output_type": "execute_result"
    }
   ],
   "source": [
    "# Your code here\n",
    "\n",
    "# The denomination chosen was: Blue for Classes; Orange for Properties, Yellow for Instances and Purple for Literals\n",
    "# and the default color Black for Entities\n",
    "# Red for RDF vocabulary and Green for Others\n",
    "\n",
    "for s,p,o in g:\n",
    "    \n",
    "    dot.edge(strip(s), strip(o))\n",
    "    \n",
    "    if isinstance(o, Literal):\n",
    "        dot.node(strip(o), color=\"purple\")\n",
    "        \n",
    "    dot.edge(strip(s), strip(o), color=\"green\")\n",
    "    if \"http://www.w3.org/1999/02/22-rdf-syntax-ns#\" in p:\n",
    "        dot.edge(strip(s), strip(o), color=\"red\")\n",
    "    \n",
    "        if p == rdf.type:\n",
    "            dot.node(strip(s), color=\"yellow\")\n",
    "            dot.node(strip(o), color=\"blue\")\n",
    "    \n",
    "    if p == rdfs.subClassOf:\n",
    "        dot.node(strip(s), color=\"blue\")\n",
    "        dot.node(strip(o), color=\"blue\")\n",
    "                 \n",
    "    if p == rdfs.domain or p == rdfs.range:\n",
    "        dot.node(strip(s), color=\"orange\")\n",
    "        dot.node(strip(o), color=\"blue\")\n",
    "        \n",
    "print(dot.source)\n",
    "dot"
   ]
  },
  {
   "cell_type": "markdown",
   "metadata": {},
   "source": [
    "### - Task 4: (1 Point) Deriving implicit knowledge (a bit of schema)\n",
    "\n",
    "We will look into Schema information in the latter modules, but let us try already to find some implicit information in a first bit of inferencing: whenever there are two statements (s a o) and (o rdfs:subClassOf o2) we can derive (and later prove) that (s a o2). \n",
    "\n",
    "Write a procedure that adds all implied triples to our knowledge graph. "
   ]
  },
  {
   "cell_type": "code",
   "execution_count": 39,
   "metadata": {},
   "outputs": [],
   "source": [
    "# Your code here\n",
    "\n",
    "for s,p,o in g:\n",
    "    \n",
    "    if p == rdf.type:\n",
    "        mother_class = g.value(o, rdfs.subClassOf)\n",
    "        if mother_class is not None:\n",
    "            g.add((s, rdf.type, mother_class))"
   ]
  },
  {
   "cell_type": "code",
   "execution_count": 40,
   "metadata": {},
   "outputs": [
    {
     "name": "stdout",
     "output_type": "stream",
     "text": [
      "@prefix ex1: <http://example.com/kad/> .\n",
      "@prefix rdfs: <http://www.w3.org/2000/01/rdf-schema#> .\n",
      "\n",
      "ex1:Germany a ex1:Country,\n",
      "        ex1:EuropeanCountry .\n",
      "\n",
      "ex1:Netherlands a ex1:Country ;\n",
      "    ex1:hasCapital ex1:Amsterdam ;\n",
      "    ex1:hasName \"The Netherlands\" ;\n",
      "    ex1:neighbours ex1:Belgium .\n",
      "\n",
      "ex1:Portugal a ex1:Country ;\n",
      "    ex1:hasCapital ex1:Lisbon ;\n",
      "    ex1:hasName \"República Portuguesa\" ;\n",
      "    ex1:neighbours ex1:Spain .\n",
      "\n",
      "ex1:USA a ex1:Country ;\n",
      "    ex1:hasCapital ex1:WashingtonDC ;\n",
      "    ex1:hasName \"United States of America\" .\n",
      "\n",
      "ex1:hasCapital rdfs:range ex1:Capital ;\n",
      "    rdfs:subPropertyOf ex1:containsCity .\n",
      "\n",
      "ex1:Amsterdam a ex1:Capital,\n",
      "        ex1:City .\n",
      "\n",
      "ex1:Belgium a ex1:Country .\n",
      "\n",
      "ex1:EuropeanCountry rdfs:subClassOf ex1:Country .\n",
      "\n",
      "ex1:Spain a ex1:Country ;\n",
      "    ex1:hasCapital ex1:Madrid ;\n",
      "    ex1:hasName \"Reino de España\" .\n",
      "\n",
      "ex1:containsCity rdfs:domain ex1:Country ;\n",
      "    rdfs:range ex1:City .\n",
      "\n",
      "ex1:Capital rdfs:subClassOf ex1:City .\n",
      "\n",
      "\n"
     ]
    }
   ],
   "source": [
    "# Checking the addition of the all the implied triples\n",
    "\n",
    "serialize_graph()"
   ]
  },
  {
   "cell_type": "markdown",
   "metadata": {
    "tags": []
   },
   "source": [
    "# C. Tasks related to local copies of external RDF Datasets using SPARQL"
   ]
  },
  {
   "cell_type": "markdown",
   "metadata": {},
   "source": [
    "Until now, we have manipulated local knowledge graphs, but as we claimed in the lectures, the advantage of knowledge graphs is that they can easily be linked with other datasets on the Web. \n",
    "\n",
    "In the remaining 3 tasks, we will manipulate data from the Web, and ask complex queries over this web data. \n",
    "\n",
    "In the first task, we will access web data, make a local copy of it, and then query it. In the other two tasks, we will query live data directly from web Knowledge Graphs (in this case, the SPARQL endpoint of DBPedia). "
   ]
  },
  {
   "cell_type": "markdown",
   "metadata": {},
   "source": [
    "### - Task 5: (1 Point) Show and manipulate data about RDF resources on the Web "
   ]
  },
  {
   "cell_type": "markdown",
   "metadata": {},
   "source": [
    "With rdflib we can easily load a local graph, but we can just as well retrieve a graph from the Web. Here, we will do so using the *requests* library, which allows us to fire a request to any server and/or SPARQL endpoint and to capture the response. The following snippet does so for the resource Netherlands from Dbpedia, by using the 'DESCRIBE' keyword to give us all triples about The Netherlands, and then loads it in a RDFlib Graph object. Note that, in the next assignment, we will learn a more high-level approach that hides most of the raw request details."
   ]
  },
  {
   "cell_type": "code",
   "execution_count": 41,
   "metadata": {},
   "outputs": [
    {
     "name": "stdout",
     "output_type": "stream",
     "text": [
      "Requirement already satisfied: requests in c:\\users\\sebas\\anaconda3\\envs\\main_env\\lib\\site-packages (2.28.1)\n",
      "Requirement already satisfied: charset-normalizer<3,>=2 in c:\\users\\sebas\\anaconda3\\envs\\main_env\\lib\\site-packages (from requests) (2.0.4)\n",
      "Requirement already satisfied: certifi>=2017.4.17 in c:\\users\\sebas\\anaconda3\\envs\\main_env\\lib\\site-packages (from requests) (2022.6.15)\n",
      "Requirement already satisfied: urllib3<1.27,>=1.21.1 in c:\\users\\sebas\\anaconda3\\envs\\main_env\\lib\\site-packages (from requests) (1.26.9)\n",
      "Requirement already satisfied: idna<4,>=2.5 in c:\\users\\sebas\\anaconda3\\envs\\main_env\\lib\\site-packages (from requests) (3.3)\n",
      "Note: you may need to restart the kernel to use updated packages.\n"
     ]
    }
   ],
   "source": [
    "# install the library\n",
    "%pip install requests"
   ]
  },
  {
   "cell_type": "code",
   "execution_count": 42,
   "metadata": {},
   "outputs": [
    {
     "data": {
      "text/plain": [
       "<Graph identifier=N87c9acf2f5dc44fe86577b1be5eeba36 (<class 'rdflib.graph.Graph'>)>"
      ]
     },
     "execution_count": 42,
     "metadata": {},
     "output_type": "execute_result"
    }
   ],
   "source": [
    "import requests\n",
    "\n",
    "endpoint = \"https://dbpedia.org/sparql\"\n",
    "query = 'DESCRIBE <http://dbpedia.org/resource/Netherlands>'\n",
    "\n",
    "payload = {'query':query, 'format':'text/turtle'}\n",
    "response = requests.post(endpoint, data = payload)\n",
    "\n",
    "g = Graph()\n",
    "g.parse(data=response.text, format='ttl')"
   ]
  },
  {
   "cell_type": "markdown",
   "metadata": {},
   "source": [
    "Now do the same for Belgium"
   ]
  },
  {
   "cell_type": "code",
   "execution_count": 43,
   "metadata": {},
   "outputs": [
    {
     "data": {
      "text/plain": [
       "<Graph identifier=N87c9acf2f5dc44fe86577b1be5eeba36 (<class 'rdflib.graph.Graph'>)>"
      ]
     },
     "execution_count": 43,
     "metadata": {},
     "output_type": "execute_result"
    }
   ],
   "source": [
    "endpoint = \"https://dbpedia.org/sparql\"\n",
    "query = 'DESCRIBE <http://dbpedia.org/resource/Belgium>'\n",
    "\n",
    "payload = {'query':query, 'format':'text/turtle'}\n",
    "response = requests.post(endpoint, data = payload)\n",
    "\n",
    "g.parse(data=response.text, format='ttl')  # calling parse again merges the graphs"
   ]
  },
  {
   "cell_type": "markdown",
   "metadata": {},
   "source": [
    "Let us start by showing diverse bits of information w.r.t  The Netherlands and Belgium in DBPedia. It is very similar to task 1, but now with Web Data. \n",
    "\n",
    "First, query the graph g (now containing the DBPedia information about both countries) and check which motor ways cross both countries."
   ]
  },
  {
   "cell_type": "code",
   "execution_count": 44,
   "metadata": {},
   "outputs": [
    {
     "name": "stdout",
     "output_type": "stream",
     "text": [
      "http://dbpedia.org/resource/European_route_E19\n",
      "http://dbpedia.org/resource/European_route_E25\n",
      "http://dbpedia.org/resource/European_route_E314\n",
      "http://dbpedia.org/resource/European_route_E34\n",
      "http://dbpedia.org/resource/North_Sea–Baltic_Corridor\n"
     ]
    }
   ],
   "source": [
    "qres = g.query(\n",
    "   \"\"\"\n",
    "    PREFIX dbr: <http://dbpedia.org/resource/>\n",
    "    PREFIX dbo: <http://dbpedia.org/ontology/>\n",
    "    SELECT ?s\n",
    "        WHERE {\n",
    "            ?s dbo:county dbr:Netherlands .\n",
    "            ?s dbo:county dbr:Belgium .\n",
    "        }\n",
    "        LIMIT 10\n",
    "       \"\"\")\n",
    "for row in qres:\n",
    "    print(\"%s\" % row)"
   ]
  },
  {
   "cell_type": "markdown",
   "metadata": {},
   "source": [
    "Write a query to check whether you can find someone who was born in The Netherlands and died in Belgium? You need to look at the data to know which property you should check for. \n",
    "\n",
    "To get an intuition of what is in the knowledge graph you might want to look at the human readable rendering on : http://dbpedia.org/resource/Netherlands"
   ]
  },
  {
   "cell_type": "code",
   "execution_count": 45,
   "metadata": {
    "scrolled": true
   },
   "outputs": [
    {
     "name": "stdout",
     "output_type": "stream",
     "text": [
      "http://dbpedia.org/resource/Will_Hoebee\n",
      "http://dbpedia.org/resource/Willem_Le_Jeune\n",
      "http://dbpedia.org/resource/Salomon_Zeldenrust\n",
      "http://dbpedia.org/resource/Cornelius_van_Zierikzee\n",
      "http://dbpedia.org/resource/Dick_Nanninga\n",
      "http://dbpedia.org/resource/Han_Grijzenhout\n",
      "http://dbpedia.org/resource/Hein_Verbruggen\n",
      "http://dbpedia.org/resource/Henri_Alexis_Brialmont\n",
      "http://dbpedia.org/resource/Henriëtte_Ronner-Knip\n",
      "http://dbpedia.org/resource/Gerard_Reve\n"
     ]
    }
   ],
   "source": [
    "# Your code here\n",
    "\n",
    "# BirthPlace and DeathPlace\n",
    "\n",
    "qres = g.query(\n",
    "   \"\"\"\n",
    "    PREFIX dbr: <http://dbpedia.org/resource/>\n",
    "    PREFIX dbo: <http://dbpedia.org/ontology/>\n",
    "    SELECT ?p\n",
    "        WHERE {\n",
    "            ?p dbo:birthPlace dbr:Netherlands .\n",
    "            ?p dbo:deathPlace dbr:Belgium .\n",
    "        }\n",
    "        LIMIT 10\n",
    "       \"\"\")\n",
    "for row in qres:\n",
    "    print(\"%s\" % row)"
   ]
  },
  {
   "cell_type": "markdown",
   "metadata": {},
   "source": [
    "### - Task 6: (2 Points) Ask SPARQL against live data using Yasgui\n",
    "\n",
    "Yasgui (https://yasgui.triply.cc) is a nice graphical interface for asking queries.\n",
    "\n",
    "Run a new query against http://dbpedia.org/sparql that does the following:\n",
    "\n",
    "- Find all languages spoken in countries that are not official languages of that country\n",
    "- The query should return two colums: the country, and the number of languages.\n",
    "- Order the countries by the number of unofficial languages, from high to low."
   ]
  },
  {
   "cell_type": "code",
   "execution_count": 46,
   "metadata": {},
   "outputs": [
    {
     "data": {
      "text/plain": [
       "'\\nPREFIX dbt: <http://dbpedia.org/resource/Template:>\\nPREFIX rdf: <http://www.w3.org/1999/02/22-rdf-syntax-ns#>\\nPREFIX rdfs: <http://www.w3.org/2000/01/rdf-schema#>\\nPREFIX dbr: <http://dbpedia.org/resource/>\\nPREFIX dbo: <http://dbpedia.org/ontology/>\\n\\nSELECT (?country as ?Country) (COUNT(DISTINCT(?all_languages)) as ?Number_Of_Unofficial_Spoken_Languages)\\nWHERE {\\n  ?country rdf:type dbo:Country.\\n  ?country dbo:language ?all_languages.\\n  FILTER NOT EXISTS {?country dbo:officialLanguage ?all_languages}.\\n}\\nGROUP BY ?country\\nORDER BY DESC (?Number_Of_Unofficial_Spoken_Languages)\\n'"
      ]
     },
     "execution_count": 46,
     "metadata": {},
     "output_type": "execute_result"
    }
   ],
   "source": [
    "'''\n",
    "Add here the SPARQL query (not Python) code. (copy & paste from Yasgui)\n",
    "When you run the query in Yasgui you should get an answer. \n",
    "'''\n",
    "\n",
    "'''\n",
    "PREFIX dbt: <http://dbpedia.org/resource/Template:>\n",
    "PREFIX rdf: <http://www.w3.org/1999/02/22-rdf-syntax-ns#>\n",
    "PREFIX rdfs: <http://www.w3.org/2000/01/rdf-schema#>\n",
    "PREFIX dbr: <http://dbpedia.org/resource/>\n",
    "PREFIX dbo: <http://dbpedia.org/ontology/>\n",
    "\n",
    "SELECT (?country as ?Country) (COUNT(DISTINCT(?all_languages)) as ?Number_Of_Unofficial_Spoken_Languages)\n",
    "WHERE {\n",
    "  ?country rdf:type dbo:Country.\n",
    "  ?country dbo:language ?all_languages.\n",
    "  FILTER NOT EXISTS {?country dbo:officialLanguage ?all_languages}.\n",
    "}\n",
    "GROUP BY ?country\n",
    "ORDER BY DESC (?Number_Of_Unofficial_Spoken_Languages)\n",
    "'''"
   ]
  }
 ],
 "metadata": {
  "kernelspec": {
   "display_name": "Python 3 (ipykernel)",
   "language": "python",
   "name": "python3"
  },
  "language_info": {
   "codemirror_mode": {
    "name": "ipython",
    "version": 3
   },
   "file_extension": ".py",
   "mimetype": "text/x-python",
   "name": "python",
   "nbconvert_exporter": "python",
   "pygments_lexer": "ipython3",
   "version": "3.10.4"
  }
 },
 "nbformat": 4,
 "nbformat_minor": 4
}
