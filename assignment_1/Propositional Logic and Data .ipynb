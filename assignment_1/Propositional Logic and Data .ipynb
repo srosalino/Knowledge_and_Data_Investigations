{
 "cells": [
  {
   "cell_type": "markdown",
   "metadata": {},
   "source": [
    "# Knowledge and Data: Practical Assignment 1 \n",
    "## Manipulate Propositional Logic and Simple Knowledge Graph Logic"
   ]
  },
  {
   "cell_type": "markdown",
   "metadata": {},
   "source": [
    "- YOUR NAME: \n",
    "\n",
    "- YOUR VUNetID: \n",
    "\n",
    "*(If you do not provide your NAME and VUNetID we will not accept your submission.)*"
   ]
  },
  {
   "cell_type": "markdown",
   "metadata": {},
   "source": [
    "### Learning objectives"
   ]
  },
  {
   "cell_type": "markdown",
   "metadata": {},
   "source": [
    "At the end of this exercise you should be able to perform some simple manipulations of two different formal systems: \n",
    "1. You will be able to transform Propositional Logic statements from one syntactic form to semantically equivalent  alternative representation.\n",
    "2. You will be able to evaluate a Propositional Logic statements given some validation of the propositional variables. \n",
    "3. You will be able to transform one Knowledge Graph into an equivalent one with a different Syntax \n",
    "4. You will be able to calculate simple entailment between two Knowledge Graph"
   ]
  },
  {
   "cell_type": "markdown",
   "metadata": {},
   "source": [
    "### Practicalities"
   ]
  },
  {
   "cell_type": "markdown",
   "metadata": {},
   "source": [
    "Follow this Notebook step-by-step. Some of the exercises are already \n",
    "fully filled in to give you some examples of how to do things. Others are\n",
    "partially filled, and require you to fill in some gaps. And others, you \n",
    "will have to fully program yourself. \n",
    "\n",
    "Of course, you can do the exercises in any Programming Editor of your liking. \n",
    "But you do not have to. Feel free to simply write code in the Notebook. When \n",
    "everythink is filled in and works, save the Notebook and submit it \n",
    "as a Jupyter Notebook (i.e. with an ipynb extension). **Please use as name of the \n",
    "Notebook your studentID+Assignment1.ipynb**.  \n",
    "\n",
    "Other than in courses dedicated to programming we will not evaluate the style\n",
    "of the programs. But we will test your programs on other data than we provide, \n",
    "and your program should give the correct answers to those test-data as well. "
   ]
  },
  {
   "cell_type": "markdown",
   "metadata": {},
   "source": [
    "## Exercises related to Propositional Logic "
   ]
  },
  {
   "cell_type": "markdown",
   "metadata": {},
   "source": [
    "We will use a very simple, though crude and ugly, representation for Propositional Logic: Propositions are strings, and formulas are lists, starting with an operator as first element in the list, and the subformulas as second and (if appropriate) third argument. (Note that this is slightly different than the definition in the lecture, where Propositions are lists with one argument). These are formulas in Prefix Notation.\n",
    "\n",
    "In the file, there is one formula per line. \n",
    "\n",
    "For simplicity, we will only consider formulas with any of the three variables P, Q and R, and binary operators \">> (implies), & (and), | (or)\" and \"~ (not)\". "
   ]
  },
  {
   "cell_type": "markdown",
   "metadata": {},
   "source": [
    "Here are some formulas as examples.\n",
    "\n",
    "(~R & P) >> Q\n",
    "\n",
    "~(((P | ~Q) >> R) >> (P & R)) \n",
    "\n",
    "~(P >> Q) | (R >> P) \n",
    "\n",
    "(P >> Q) | (Q >> ~P)\n"
   ]
  },
  {
   "cell_type": "markdown",
   "metadata": {},
   "source": [
    "The first thing you will have to do is to open the file. The code below will read every line of the file into a list called *content*.\n",
    "\n",
    "Do *not* forget to run the following cell, otherwise, the file will not be opened. import os \n"
   ]
  },
  {
   "cell_type": "code",
   "execution_count": null,
   "metadata": {},
   "outputs": [],
   "source": [
    "import os \n",
    "from logic import *"
   ]
  },
  {
   "cell_type": "code",
   "execution_count": null,
   "metadata": {},
   "outputs": [],
   "source": [
    "fileDir = os.path.dirname(os.path.realpath('__file__'))\n",
    "filename = os.path.join(fileDir, 'PLknowledgebase.txt')\n",
    "print(filename)\n",
    "with open(filename) as file:\n",
    "    content = file.readlines()\n",
    "     \n",
    "print(content)"
   ]
  },
  {
   "cell_type": "code",
   "execution_count": null,
   "metadata": {},
   "outputs": [],
   "source": [
    "P, Q, R = vars('P', 'Q', 'R')\n",
    "\n",
    "for line in content:\n",
    "    formula = eval(line.strip())\n",
    "    print()\n",
    "    print(formula)\n",
    "    print(formula.is_tautology())\n",
    "    print(type(formula))\n",
    "    print(formula.children[0])"
   ]
  },
  {
   "cell_type": "markdown",
   "metadata": {},
   "source": [
    "The last procedure makes use of the inbuilt properties of the logic package. Let us do similar stuff ourselves. \n",
    "\n",
    "### Task 1: (1 Point) Complete the procedure *prefix* that transforms the formula into Prefix notation, i.e., the operator \"sits\" in front of the two arguments.\n",
    "Also use different symbols for operators, IMP for implication, AND for conjunction, OR for disjunction and NEG for negation. "
   ]
  },
  {
   "cell_type": "code",
   "execution_count": null,
   "metadata": {},
   "outputs": [],
   "source": [
    "def prefix(s):\n",
    "    if type(s) is Or:\n",
    "        child1 = s.children[0]\n",
    "        child2 = s.children[1]\n",
    "        string = \"OR(\" + prefix(child1) + \",\" + prefix(child2) + \")\";\n",
    "        return string\n",
    "       ## Fill in the remaining cases (hint: not every formula has the same number of children) \n",
    "    else:\n",
    "        return str(s)"
   ]
  },
  {
   "cell_type": "markdown",
   "metadata": {},
   "source": [
    "Execute the following line of code to check whether your procedure works correctly or not."
   ]
  },
  {
   "cell_type": "code",
   "execution_count": null,
   "metadata": {},
   "outputs": [],
   "source": [
    "for line in content:\n",
    "    formula = eval(line.strip())\n",
    "    spacing = 30 - len(str(formula))\n",
    "    print(str(formula) + \" \"*spacing + \"== \" + prefix(formula))"
   ]
  },
  {
   "cell_type": "markdown",
   "metadata": {},
   "source": [
    "If you run your procedure on the input data, you should get something like the following output: \n",
    "\n",
    "IMP(AND(NEG(R),P),Q) \n",
    "\n",
    "etc"
   ]
  },
  {
   "cell_type": "markdown",
   "metadata": {},
   "source": [
    "### Task 2: (2 Points) Write a procedure *evaluate* that calculates the value of a formula. \n",
    "\n",
    "Input to the procedure is the formula s, and the three truth values for variable P, Q and R. \n",
    "\n",
    "This is a procedural way to implement the \"meaning\" of the operators (which you can read from the Truth Tables)"
   ]
  },
  {
   "cell_type": "code",
   "execution_count": null,
   "metadata": {},
   "outputs": [],
   "source": [
    "def evaluate(s, p, q, r):\n",
    "    if type(s) is Or:\n",
    "        child1 = s.children[0]\n",
    "        child2 = s.children[1]\n",
    "        if (evaluate(child1,p,q,r) is True) and (evaluate(child2,p,q,r) is True):\n",
    "            return True\n",
    "        ## Fill in the remaining cases\n",
    "    elif type(s) is Implies:\n",
    "        child1 = s.children[0]\n",
    "        child2 = s.children[1]\n",
    "        if (evaluate(child1,p,q,r) is False) and (evaluate(child2,p,q,r) is True):\n",
    "            return True   \n",
    "        ## Fill in the remaining cases\n",
    "    ## Fill in the remaining cases\n",
    "    elif type(s) is Variable:        \n",
    "        if str(s) == 'P':\n",
    "            return p\n",
    "        ## Fill in the base cases: \n",
    "    else:\n",
    "        print(\"Something went wrong\") "
   ]
  },
  {
   "cell_type": "markdown",
   "metadata": {},
   "source": [
    "Execute the following line of code to check whether your procedure works correctly or not."
   ]
  },
  {
   "cell_type": "code",
   "execution_count": null,
   "metadata": {},
   "outputs": [],
   "source": [
    "for l in content:\n",
    "    formula = l.strip()\n",
    "    spacing = 30 - len(str(formula))\n",
    "    print(str(formula) + \" \"*spacing + str(evaluate(s=eval(formula), p=True, q=True, r=False)))"
   ]
  },
  {
   "cell_type": "markdown",
   "metadata": {},
   "source": [
    "If you run your program on the given input, you should get: <br />\n",
    "True<br />\n",
    "False<br />\n",
    "True<br />\n",
    "True<br />"
   ]
  },
  {
   "cell_type": "markdown",
   "metadata": {},
   "source": [
    "### Task 3: (1 Points) Write a procedure *tautology* that calculates whether a given formula (with maximally three variables P,Q and R) is a tautology \n",
    "Hint: Use the *evaluate* function you just wrote and implement a \"truthtable\" approach whether the formula is always evaluated as \"true\". Do *not* use the 'is_tautology' method seen earlier."
   ]
  },
  {
   "cell_type": "code",
   "execution_count": null,
   "metadata": {},
   "outputs": [],
   "source": [
    "def tautology(s):\n",
    "    ## Your code here\n",
    "    pass"
   ]
  },
  {
   "cell_type": "markdown",
   "metadata": {},
   "source": [
    "Execute the following line of code to check whether your procedure works correctly or not."
   ]
  },
  {
   "cell_type": "code",
   "execution_count": null,
   "metadata": {},
   "outputs": [],
   "source": [
    "print(\"Formula\" + 23*\" \" + \"Tautology\")\n",
    "for l in content:\n",
    "    formula = l.strip()\n",
    "    spacing = 30 - len(str(formula))\n",
    "    print(str(formula) + \" \"*spacing + (repr(tautology(eval(formula)))))"
   ]
  },
  {
   "cell_type": "markdown",
   "metadata": {},
   "source": [
    "When you evaluate your code on the provided input, you should get: <br />\n",
    "False<br />\n",
    "False<br />\n",
    "False<br />\n",
    "True<br />"
   ]
  },
  {
   "cell_type": "markdown",
   "metadata": {},
   "source": [
    "## Exercises related to Simple Knowledge Graph Logic "
   ]
  },
  {
   "cell_type": "markdown",
   "metadata": {},
   "source": [
    "We will use a very simple, though crude and ugly, representation for Simple Knowledge Graph Logic: Resources are strings, and triples are lists of Resources. So, a triple ( s p o ) will be represented as a list [s,p,o], and a Knowledge Graph with two triples (s1, p1, o1) and (s2, p2, o2) as a list containing two lists: [[s1,p1,o1], [s2,p2,o2]].\n",
    "\n",
    "Every line contains a knowledge graph (one list). \n",
    "\n",
    "Run the following code to load the Knowledge Graph in knowledgegraph.txt"
   ]
  },
  {
   "cell_type": "code",
   "execution_count": null,
   "metadata": {},
   "outputs": [],
   "source": [
    "import os \n",
    "fileDir = os.path.dirname(os.path.realpath('__file__'))\n",
    "filename = os.path.join(fileDir, 'knowledgegraph.txt')\n",
    "with open(filename) as file:\n",
    "    content = [[t for t in eval(g)] for g in file.readlines()]"
   ]
  },
  {
   "cell_type": "markdown",
   "metadata": {},
   "source": [
    "Maybe you want to write a function to print this graph for convenience ... (no extra points, though) "
   ]
  },
  {
   "cell_type": "code",
   "execution_count": null,
   "metadata": {},
   "outputs": [],
   "source": []
  },
  {
   "cell_type": "markdown",
   "metadata": {},
   "source": [
    "The next two exercises are about syntactic transformation of Knowledge Graphs. The two target formats are simplified versions of syntaxes for the language RDF that we will introduce later. \n",
    "\n",
    "### Task 4a: (1 Point) Write a procedure to transform the Knowledge Graphs into N-triple syntax. \n",
    "N-triple is a simple (the most simple?) representation format for representing Knowledge Graphs. \n",
    "\n",
    "A triple (s,p,o) is simply written as as follows:\n",
    "\n",
    "     <s> <p> <o> . \n",
    "     \n",
    "As one string, with blanks between s,p and o, with < and > around the variables, and a dot after the triple. \n",
    "\n",
    "First, write a function that transforms a triple ['s','p','o'] into a single string \"\\<s> \\<p> \\<o> .\""
   ]
  },
  {
   "cell_type": "code",
   "execution_count": null,
   "metadata": {},
   "outputs": [],
   "source": [
    "def as_ntriple(triple):\n",
    "    ## first write a function that transforms the triples ...\n",
    "    pass"
   ]
  },
  {
   "cell_type": "code",
   "execution_count": null,
   "metadata": {},
   "outputs": [],
   "source": [
    "def as_ntriples(graph):\n",
    "    ## ... and then loops through all triples in the graph\n",
    "    pass"
   ]
  },
  {
   "cell_type": "markdown",
   "metadata": {},
   "source": [
    "Execute the following line of code to check whether your procedure works correctly or not."
   ]
  },
  {
   "cell_type": "code",
   "execution_count": null,
   "metadata": {},
   "outputs": [],
   "source": [
    "for l in content:\n",
    "     print(as_ntriples(l))"
   ]
  },
  {
   "cell_type": "markdown",
   "metadata": {},
   "source": [
    "Your answer should look like this: <br />\n",
    "['\\<s> \\<p> \\<o> .', '\\<s> \\<p1> \\<o2> .', '\\<s2> \\<p2> \\<o> .']<br/>\n",
    "['\\<Netherlands> \\<name> \\<\"Netherlands\"> .', '\\<Netherlands> \\<has_capital> \\<Amsterdam> .', '\\<Amsterdam> \\<type> \\<Capital> .']<br/>\n",
    "['\\<Netherlands> \\<name> \\<\"Netherlands\"> .', '\\<Netherlands> \\<has_capital> \\<Amsterdam> .', '\\<Amsterdam> \\<type> \\<Capital> .', '\\<Capital> \\<type> \\<City> .', '\\<Netherlands> \\<neighbours> \\<Belgium> .', '\\<Netherlands> \\<type> \\<Country> .']"
   ]
  },
  {
   "cell_type": "markdown",
   "metadata": {},
   "source": [
    "### Task 4b (1 Point) Adjust your procedure to cope with literal objects\n",
    "\n",
    "In reality, the N-triples format specifies that only objects must be embedded between angled brackets; literal values, such as strings and numbers, are to be represented as string values, for example \"\\<s> \\<p> \\\"12\\\" .\". Since knowledge graphs are construced with an object-centric language (RDF), we only have to consider the last element of a triple.\n",
    "\n",
    "Adjust the function _as\\_triple_ to make it output valid N-triples."
   ]
  },
  {
   "cell_type": "code",
   "execution_count": null,
   "metadata": {},
   "outputs": [],
   "source": [
    "def as_ntriple(triple):\n",
    "    ## first write a function that transforms the triples ...\n",
    "    pass"
   ]
  },
  {
   "cell_type": "markdown",
   "metadata": {},
   "source": [
    "Execute the following line of code to check whether your procedure works correctly or not."
   ]
  },
  {
   "cell_type": "code",
   "execution_count": null,
   "metadata": {},
   "outputs": [],
   "source": [
    "for l in content:\n",
    "     print(as_ntriples(l))"
   ]
  },
  {
   "cell_type": "markdown",
   "metadata": {},
   "source": [
    "Your answer should look like this: <br />\n",
    "['\\<s> \\<p> \\<o> .', '\\<s> \\<p1> \\<o2> .', '\\<s2> \\<p2> \\<o> .']<br/>\n",
    "['\\<Netherlands> \\<name> \"Netherlands\" .', '\\<Netherlands> \\<has_capital> \\<Amsterdam> .', '\\<Amsterdam> \\<type> \\<Capital> .']<br/>\n",
    "['\\<Netherlands> \\<name> \"Netherlands\" .', '\\<Netherlands> \\<has_capital> \\<Amsterdam> .', '\\<Amsterdam> \\<type> \\<Capital> .', '\\<Capital> \\<type> \\<City> .', '\\<Netherlands> \\<neighbours> \\<Belgium> .', '\\<Netherlands> \\<type> \\<Country> .']"
   ]
  },
  {
   "cell_type": "markdown",
   "metadata": {},
   "source": [
    "### Task 5: (2 Points) Write a procedure to evaluate whether a Triple (s p o) is entailed by your Knowledge Graph\n",
    "\n",
    "Remember that we can calculate whether a triple is entailed by a Knowledge Graph (w.r.t Simple Knowledge Graph Logic) by simply checking whether the triple is a subgraph of the knowledge graph.  \n",
    "\n",
    "The triples, on which you can test your implementations are located in the file: *entailedTriples.txt*. You need to open the file and check for all triples whether it is entailed by the knowledge graphs in knowledgegraph.txt (which is already opened). Hint: you can use *eval* to convert a raw string to a list.\n",
    "\n",
    "You might want to add auxiliary functions in extra cells if necessary."
   ]
  },
  {
   "cell_type": "code",
   "execution_count": null,
   "metadata": {},
   "outputs": [],
   "source": [
    "def tripleEntail():\n",
    "    ## Your code here\n",
    "    pass"
   ]
  },
  {
   "cell_type": "markdown",
   "metadata": {},
   "source": [
    "Provide some code to check that your function works correctly.  "
   ]
  },
  {
   "cell_type": "code",
   "execution_count": null,
   "metadata": {},
   "outputs": [],
   "source": []
  },
  {
   "cell_type": "markdown",
   "metadata": {},
   "source": [
    "The expected output is a list of relations between graphs and triples<br />\n",
    "[['s','p','o'],['s','p1','o2'],['s2','p2','o']] entails ['s2','p2','o']<br />\n",
    "[['s','p','o'],['s','p1','o2'],['s2','p2','o']] does NOT entail ['Netherlands','name','\"Netherlands\"']<br />\n",
    "and so on for all graphs and triples. "
   ]
  },
  {
   "cell_type": "markdown",
   "metadata": {},
   "source": [
    "### Task 6: (2 Points) Write a procedure to evaluate whether one Knowledge Graph is entailed by another Knowledge Graph"
   ]
  },
  {
   "cell_type": "markdown",
   "metadata": {},
   "source": [
    "The graphs, on which you can test your implementations are located in the file: entailedGraphs.txt. \n",
    "\n",
    "You might want to add auxiliary functions in extra cells if necessary."
   ]
  },
  {
   "cell_type": "code",
   "execution_count": null,
   "metadata": {},
   "outputs": [],
   "source": [
    "## Your code here\n",
    "def graphEntail():\n",
    "    pass"
   ]
  },
  {
   "cell_type": "markdown",
   "metadata": {},
   "source": [
    "Provide some code to check that your function works correctly.  "
   ]
  },
  {
   "cell_type": "code",
   "execution_count": null,
   "metadata": {},
   "outputs": [],
   "source": []
  },
  {
   "cell_type": "markdown",
   "metadata": {},
   "source": [
    "The expected output is a list of relations between graphs and graphs<br />\n",
    "[['s','p','o'],['s','p1','o2'],['s2','p2','o']] entails [['s','p','o'],['s2','p2','o']]<br />\n",
    "[['s','p','o'],['s','p1','o2'],['s2','p2','o']] entails [['s2','p2','o'],['s2','p2','o']]<br />\n",
    "[['s','p','o'],['s','p1','o2'],['s2','p2','o']] does NOT entail [['Netherlands','name','\"Netherlands\"'],['Netherlands','has_capital','Amsterdam'],['Capital','a','City'],['Netherlands','neighbours','Belgium']]\n",
    " [['s','p','o'],['s2','p2','o']]<br />\n",
    "and so on for all graphs and triples. "
   ]
  }
 ],
 "metadata": {
  "kernelspec": {
   "display_name": "Python 3 (ipykernel)",
   "language": "python",
   "name": "python3"
  },
  "language_info": {
   "codemirror_mode": {
    "name": "ipython",
    "version": 3
   },
   "file_extension": ".py",
   "mimetype": "text/x-python",
   "name": "python",
   "nbconvert_exporter": "python",
   "pygments_lexer": "ipython3",
   "version": "3.10.5"
  }
 },
 "nbformat": 4,
 "nbformat_minor": 4
}
