{
 "cells": [
  {
   "cell_type": "markdown",
   "metadata": {},
   "source": [
    "# Knowledge and Data: Practical Assignment 4 \n",
    "## Modelling in OWL "
   ]
  },
  {
   "cell_type": "markdown",
   "metadata": {},
   "source": [
    "- YOUR NAME: Sebastião Manuel Inácio Rosalino\n",
    "\n",
    "- YOUR VUNetID: sxx209\n",
    "\n",
    "*(If you do not provide your NAME and VUNetID we will not accept your submission.)*"
   ]
  },
  {
   "cell_type": "markdown",
   "metadata": {},
   "source": [
    "For this assignment you will be engineering and reasoning over your very own OWL ontology.\n",
    "\n",
    "You are free to choose the domain (subject) of the ontology you are going to build (e.g. on nutritional value, recipes, supermarkets, food safety, health, restaurants, planes, trains and automobiles, developing countries, modern slavery, political parties, refugees, you name it...). Just be creative and choose a domain we have not seen in class yet. \n",
    "\n",
    "We expect extensive answers for this assignment: give a full account of what you did, such that a peer would be able to reproduce your ontology. This means that you must explicitly state the new axioms (in some Human readable syntax, such as Manchester Syntax, so no ttl) and that we expect you to motivate your choices (usually 1-3 lines).\n",
    "\n",
    "**IMPORTANT: You will have to hand in your ontology (as ttl) together with the notebook**"
   ]
  },
  {
   "cell_type": "markdown",
   "metadata": {},
   "source": [
    "### Learning objectives"
   ]
  },
  {
   "cell_type": "markdown",
   "metadata": {},
   "source": [
    "At the end of this exercise you should be able to build and ontology and to reason over it: \n",
    "1. You will be able to engineer an OWL ontology\n",
    "2. You will be able to conceptualize a (small) domain\n",
    "3. You will be able use conditions and property characteristics\n",
    "4. You will be able to use a reasoner to infer implicit knowledge\n",
    "5. You will be able to work in Protégé"
   ]
  },
  {
   "cell_type": "markdown",
   "metadata": {},
   "source": [
    "### Preliminaries\n",
    "\n",
    "There are several tools which can be used to create and edit RDF and OWL files (in addition to your favourite text-based editor). For this assignment we urge you to use the open-source tool [Protégé](https://protege.stanford.edu), which is a stand-alone editor that is very much tailored towards OWL ontology editing.\n",
    "\n",
    "To install Protégé on your system, please take a look at the [installation instructions](https://protegeproject.github.io/protege/installation/).\n",
    " \n",
    "Protégé is a complex tool with many options, only few of which we will need for this assignment. There are various resources available to get you started:\n",
    "\n",
    "- Watch a short [Protégé Screencast Tutorial](https://vimeo.com/183829740) (created by Rinke Hoekstra)\n",
    "- Check out the [Practical Guide To Building OWL Ontologies Using Protégé 5](https://www.researchgate.net/publication/351037551_A_Practical_Guide_to_Building_OWL_Ontologies_Using_Protege_55_and_Plugins) that uses the [Pizza ontology](https://protege.stanford.edu/ontologies/pizza/pizza.owl) to describe how to create ontologies using Protégé.\n",
    "- Check the [Assignment 4 document](https://docs.google.com/document/d/1Dw2winjfr2TJq3r1q6ZRpud9Qn--tq4ioWDqiBdrrzI) containing Tips & Recommendations on how to create ontologies."
   ]
  },
  {
   "cell_type": "markdown",
   "metadata": {},
   "source": [
    "### Task 1 (1 Point) : Creating an empty ontology\n",
    "\n",
    "Create a new empty ontology in Protégé.\n",
    "\n",
    "Be sure to:\n",
    "- Choose your own unique ontology IRI, its namespace, and a prefix\n",
    "- Add metadata in the form of *rdfs:label*, *rdfs:comment*, and *rdfs:isDefinedBy* annotations.  \n",
    "  Use *rdfs:comment* to describe the domain and target audience of your ontology.\n",
    "\n",
    "Write down the IRI, its prefix, and the metadata that you have added in the textfield below:"
   ]
  },
  {
   "cell_type": "markdown",
   "metadata": {},
   "source": [
    "IRI: http://www.semanticweb.org/sebas/ontologies/knowledge_and_data/assignment_4\n",
    "\n",
    "Namespace: \n",
    "\n",
    "    * http://www.w3.org/2002/07/owl#\n",
    "\n",
    "    * http://www.w3.org/1999/02/22-rdf-syntax-ns#\n",
    "    \n",
    "    * http://www.w3.org/2000/01/rdf-schema#\n",
    "    \n",
    "    * http://www.semanticweb.org/sebas/ontologies/knowledge_and_data/assignment_4\n",
    "    \n",
    "    * http://www.w3.org/XML/1998/namespace\n",
    "\n",
    "    * http://www.w3.org/2001/XMLSchema#\n",
    "\n",
    "Prefix: \n",
    "\n",
    "    * owl\n",
    "    \n",
    "    * rdf\n",
    "    \n",
    "    * rdfs\n",
    "    \n",
    "    * sebas\n",
    "    \n",
    "    * xml \n",
    "    \n",
    "    * xsd\n",
    "\n",
    "Metadata: The data there's always there. Built-in protege things. For example, OWL:Thing. Add your properties. RDF Types, RDFS Syntax. Everything from RDF/RDFS semantics I've used. Properties of own entologies. Example Human label Human comment human being of Homosapiens. Use rdfs.label on every classes. Use comments. Labels for every class. Use everything from the Annotations. Only for the ontology. Comments should be enough"
   ]
  },
  {
   "cell_type": "markdown",
   "metadata": {},
   "source": [
    "### Task 2a (1 Point) : Populating your ontology\n",
    "\n",
    "Populate your ontology such that it contains\n",
    "- six classes\n",
    "- three data properties\n",
    "- four object properties\n",
    "\n",
    "For **each** class, create **two** example instances:\n",
    "- assert one instance as a member of this class (i.e. using *rdf:type*).\n",
    "- leave the second instance without any type.\n",
    "\n",
    "Your ontology should now have 12 instances: six instances with a certain *rdf:type*, and six instances without any *rdf:type*.\n",
    "\n",
    "List and describe the 6 classes you created in the textfield below, together with their instances. Don't forget to motivate your choices."
   ]
  },
  {
   "cell_type": "markdown",
   "metadata": {},
   "source": [
    "Class Name: **faculty**\n",
    "\n",
    "Description: As my ontology is based on a university structure (using VU University's situation), it is essencial to create a class covering the multiple faculties that may be present.\n",
    "\n",
    "Instances: faculty_business_economics, faculty_of_science (assigned rdf:type)\n",
    "\n",
    "\n",
    "\n",
    "Class Name: **major**\n",
    "\n",
    "Description: This class includes the degrees possible to graduate in the VU. Whether it is a bachelors or a masters.\n",
    "\n",
    "Instances: data_science (assigned rdf:type), economics, management \n",
    "\n",
    "\n",
    "Class Name: **popularMajors**\n",
    "\n",
    "Description: This class includes the bachelors and masters degrees offered by VU that have at least 500 students enrolled on them. This is a subclass of the major class. It is impossible for this class to have explicit instances assigned to it, because this is a class with a pre-condition that we do not know at the beggining for each major (=> 500 students).\n",
    "\n",
    "Instances: economics, management  \n",
    "\n",
    "\n",
    "Class Name: **course**\n",
    "\n",
    "Description: This class includes all the courses offered by the VU's majors. \n",
    "\n",
    "Instances: articial_intelligency, intelligent_systems (assigned rdf:type), knowledge_and_data \n",
    "\n",
    "\n",
    "\n",
    "Class Name: **people**\n",
    "\n",
    "Description: People class includes any human being, whether a student, a professor or from outside from VU academic environment.\n",
    "\n",
    "Instances: JohnDoe (assigned rdf:type), K.S_Schlobach, VictorDeBoer, MariaScharakova, SebastiaoRosalino\n",
    " \n",
    "\n",
    "\n",
    "Class Name: **professor**\n",
    "\n",
    "Description: This class includes any professor lecturing on VU. Noteworthy to mention that it is necessary for someone to lecture at least on course to qualify as a professor.\n",
    "\n",
    "Instances: K.S_Schlobach, VictorDeBoer (assigned rdf:type)\n",
    "\n",
    "\n",
    "\n",
    "Class Name: **student**\n",
    "\n",
    "Description: This class includes any student attending the VU. Noteworthy to mention that it is necessary for someone to be enrroled in at least on course to qualify as a student.\n",
    "\n",
    "\n",
    "Instances: MariaScharakova, SebastiaoRosalino (assigned rdf:type)\n",
    "\n",
    "\n",
    "Class Name: **research**\n",
    "\n",
    "Description: This class represents any investigation on any domain being conducted and financed by the VU.\n",
    "\n",
    "\n",
    "Instances: advanced_robotics (assigned rdf:type), social_and_economics_inequalities"
   ]
  },
  {
   "cell_type": "markdown",
   "metadata": {},
   "source": [
    "### Task 2b (1 Point) : Asserting properties\n",
    " \n",
    "For *each* instance:\n",
    "- assert at least one data property (e.g. ex:instanceA *ex:hasFullName* \"Some Full Name\"). \n",
    "- assert at least one object property, relating instances to each other (e.g.  ex:instanceA *ex:attendsCourse* ex:instanceB) \n",
    "\n",
    "List and describe 3 statements from your ontology, containing 3 different data property assertions:"
   ]
  },
  {
   "cell_type": "markdown",
   "metadata": {},
   "source": [
    "First Data Property - **hasBudget**:\n",
    "\n",
    "    Brief description: This Data Property's domain is an instance of type research and it's range points at a xsd:decimal. This property was created with the intention to assign a research under the auspices of the VU to it's initial budget (it was built so that it could support budget values with decimal places).\n",
    "    \n",
    "    Triple created: sebas:advanced_robotics sebas:hasBudget 500000 .\n",
    "    \n",
    "    \n",
    "Second Data Property - **hasFullName**:\n",
    "\n",
    "    Brief description: This Data Property's domain is an instance of type people and it's range points at an rdfs:Literal. This property was created with the intention to assign a fullname to people present in this ontology (it was built so that it could support any name, with spaces, from any language, with any special characters).\n",
    "\n",
    "    Triple created: sebas:SebastiaoRosalino sebas:hasFullName \"Sebastião Manuel Inácio Rosalino\"^^xsd:string .\n",
    "\n",
    "Third Data Property - **hasNumberOfStudents**:\n",
    "\n",
    "    Brief description: This Data Property's domain is an instance of type major and it's range points at a xsd:integer. This property was created with the intention to declare some major's number of enrolled students for informational purposes. It was made to support any integer number of students.\n",
    "    \n",
    "    Triple created: sebas:data_science sebas:hasNumberOfStudents 325 ."
   ]
  },
  {
   "cell_type": "markdown",
   "metadata": {},
   "source": [
    "List and describe 4 statements from your ontology, containing 4 different object property assertions:"
   ]
  },
  {
   "cell_type": "markdown",
   "metadata": {},
   "source": [
    "First Object Property - **isColleague**:\n",
    "\n",
    "    Brief description: This Object Property's domain and range must be instances of type student. This property was created with the intention to establish an academic relathionship between students. This Property was meant to be Symmetric and Irreflexive meaning that, on what symmetry is concerned, if someone is colleague of a third party, that third party is also a colleague of someone. Speaking about irreflexivity, it was stated that someone can never be colleague of themselves, in order to avoid miscalculations for any course's group formation for instance.\n",
    "    \n",
    "    Triple created: sebas:SebastiaoRosalino sebas:isColleague sebas:MariaScharakova .\n",
    "    \n",
    "    \n",
    "Second Object Property - **isBeingLeadBy**:\n",
    "\n",
    "    Brief description: This Object Property's domain must be of type research and it's range of type people. This property was created with the intention to state that an on-going investigation must be led strictly by only someone. This Property was meant to be Inverse Functional meaning that if an investigation is being led by two differently represented people instances they must point to the same people entity.\n",
    "    \n",
    "    Triple created: sebas:advanced_robotics sebas:isBeingLeadBy sebas:K.S_Schlobach .\n",
    "\n",
    "\n",
    "Third Object Property - **isEnrolledIn**:\n",
    "\n",
    "    Brief description: This Object Property's domain must be of type student while it's range must be of type course. This property was created with the intention to state the enrollment of a student into a certain course. \n",
    "    \n",
    "    Triple created: sebas:SebastiaoRosalino sebas:isEnrolledIn sebas:knowledge_and_data .\n",
    "    \n",
    "\n",
    "Forth Object Property - **teaches**:\n",
    "\n",
    "    Brief description: This Object Property's domain must be of type professor while it's range must be of type course. It is assumed in this ontology that a course can only be taught by a single professor. \n",
    "        \n",
    "    Triple created: sebas:VictorDeBoer sebas:teaches sebas:knowledge_and_data ."
   ]
  },
  {
   "cell_type": "markdown",
   "metadata": {},
   "source": [
    " "
   ]
  },
  {
   "cell_type": "markdown",
   "metadata": {},
   "source": [
    "---\n",
    "### The reasoner\n",
    "\n",
    "The questions following this point make use of Protégé reasoning capabilities, which are available via plugins but which are disabled by default. Install (if necessary) and start the *Pellet* reasoner before you continue with the next question.\n",
    "\n",
    "Refer to page 15 of the [Protégé guide](https://www.researchgate.net/publication/351037551_A_Practical_Guide_to_Building_OWL_Ontologies_Using_Protege_55_and_Plugins) for instructions on how to install and run the reasoner. \n",
    "\n",
    "---"
   ]
  },
  {
   "cell_type": "markdown",
   "metadata": {},
   "source": [
    "### Task 3 (0 Points): Reasoning on a basic ontology\n",
    "\n",
    "All assertions that were addded up til now were explicit. Yet, it is certainly possible that your ontology also contains one or more *implicit* assertions, that have emerged from the interactions between the added explicit assertions. \n",
    "\n",
    "Run the reasoner on your yet-basic ontology and write down the inferences occurred (if any) below:"
   ]
  },
  {
   "cell_type": "markdown",
   "metadata": {},
   "source": [
    "On my Ontology the Reasoner was able to uncover several implicit assertions. I will go through 3 of them in detail below:\n",
    "\n",
    "\n",
    "First Implicit Assertion - \n",
    "\n",
    "    Brief description: There is a condition saying that every course having 500 or more students is classified as a popularMajor, therefore, as we stated that economics had 521 students, the reasoner was able to infer that economics is also of type popularMajor.\n",
    "    \n",
    "    Triple inferred: sebas:economics rdf:type sebas:popularMajors . \n",
    "    \n",
    "\n",
    "Second Implicit Assertion - \n",
    "\n",
    "    Brief description: As we have stated before, the domain of the property teaches must be an instance of type professor, therefore, although we did not specify at first that K.S_Schlobach was a teacher, as he teaches artifical_intelligency the reasoner was in conditions to infer that K.S_Schlobach must belong to the class of professors.\n",
    "    \n",
    "    Triple inferred: sebas:K.S_Schlobach rdf:type sebas:professors .\n",
    "    \n",
    "\n",
    "Third Implicit Assertion - \n",
    "\n",
    "    Brief description: It was stated in this ontology that the property lecturesMajor had as domain a faculty, therefore, although we did not specify that faculty_business_economics was of type faculty, as it is responsible for lecturing the major economics, the reasoner inferred that the instance of faculty_business_economics is of type faculty.\n",
    "    \n",
    "    Triple inferred: sebas:faculty_business_economics rdf:type sebas:faculty . "
   ]
  },
  {
   "cell_type": "markdown",
   "metadata": {},
   "source": [
    "### Task 4a (1 Point): Necessary and sufficient conditions \n",
    "\n",
    "Select two classes from your ontology.  \n",
    "For **both** classes:\n",
    "- add necessary and sufficient conditions\n",
    "  (e.g. engineers are people who hold an engineering degree, and any person holding an engineering degree is an engineer)\n",
    "- infer class membership of *at least* one instance using each condition \n",
    "  \n",
    "List and describe the four conditions that you have added (i.e. axioms) in the textfield below. Do not forget to motivate your choices."
   ]
  },
  {
   "cell_type": "markdown",
   "metadata": {},
   "source": [
    "**First Class**: student\n",
    "    \n",
    "   **Necessary Condition**: sebas:hasFullName \n",
    "   \n",
    "   As we have stated untill now, any student must be also of type people, that means that having a **fullName** Data Property is a necessary condition to be a student, however, not necessary and sufficient. As for a counterexample of this situation the instance JohnDoe has a fullName property however, that only classifies him as a people and not a student.\n",
    "   \n",
    "   \n",
    "   **Necessary and Sufficient Condition**: sebas:fullName and sebas:isColleague \n",
    "   \n",
    "   As we have stated untill now, any student must be also of type people. In that regard, having a fullName Data Property and being related academiclly with any other student by the Object Property **isColleague** makes an instance be for sure of type student, therefore these are necessary and suficient conditions for the belonging on the class student.\n",
    "\n",
    "\n",
    "**Second Class**: popularMajors\n",
    "    \n",
    "   **Necessary Condition**: rdf:type major  \n",
    "   \n",
    "   We know that for any major to be classified as popular it firstly as to be classified as a **major**, as it would be ilogical for some instance to belong to the popularMajors class without belonging at first to the major class.\n",
    "   \n",
    "   **Necessary and Sufficient Condition**: sebas:hasNumberOfStudent **some** xsd:integer[>=500] \n",
    "   \n",
    "   Finally, if any instance has a numberOfStudents greater or equal to 500, we unmistakably know that instance is not only of type major but also a **popular major**."
   ]
  },
  {
   "cell_type": "markdown",
   "metadata": {},
   "source": [
    "### Task 4b (1 Point): Reasoning over conditions\n",
    "\n",
    "Run the reasoner once again (after having added the two conditions).\n",
    "\n",
    "Write down the different steps of the reasoning process (ie, what happens when you run the reasoner). Also write down and explain the resulting inferences below."
   ]
  },
  {
   "cell_type": "markdown",
   "metadata": {},
   "source": [
    "Your answer here\n",
    "\n",
    "Student:\n",
    "\n",
    "A Maria é logo aluna porque é colega do Sebastião\n",
    "\n",
    "John Doe apesar de ter fullname não é student\n",
    "\n",
    "Professor:\n",
    "\n",
    "Sebastião é amigo de VictorDeBoer mas isso não faz dele um professor\n",
    "\n",
    "A partir do momento que o Victor teaches é logo um professor\n",
    "\n",
    "It inferred this and that because of this and that rule. Why did it inferred something."
   ]
  },
  {
   "cell_type": "markdown",
   "metadata": {},
   "source": [
    "### Task 5a (1 Point): Property characteristics\n",
    "\n",
    "Add **four** different property characteristics.\n",
    "\n",
    "Examples are\n",
    "- transitivity\n",
    "- symmetricity\n",
    "- functionality\n",
    "- (ir)reflexivity\n",
    "- property chain\n",
    "- disjoint properties\n",
    "- etc\n",
    "\n",
    "All four different characteristics can be asserted on one property (or on four different properties).\n",
    "\n",
    "List and describe the four property characteristics you defined (i.e. axioms) in the textfield below. Do not forget to motivate your choices.\n"
   ]
  },
  {
   "cell_type": "markdown",
   "metadata": {},
   "source": [
    "Your answser here\n",
    "\n",
    "Functionality for example livesIn\n",
    "\n",
    "Perguntar se é preciso usar todas pelo menos uma vez\n",
    "\n",
    "Add one more"
   ]
  },
  {
   "cell_type": "markdown",
   "metadata": {},
   "source": [
    "### Task 5b (1 Point): Reasoning over properties\n",
    "\n",
    "Run the reasoner once again (after having added the four properties).\n",
    "\n",
    "Write down the steps of the reasoning process (ie, what happens when you run the reasoner). Also write down and explain the resulting inferences below.\n",
    "\n",
    "Explicar quando as caracteristicas de propriedeades "
   ]
  },
  {
   "cell_type": "markdown",
   "metadata": {},
   "source": [
    "Your answer here\n",
    "\n",
    "Explicar as 4 propriedades que usei"
   ]
  },
  {
   "cell_type": "markdown",
   "metadata": {},
   "source": [
    "### Task 6 (1-2 Point): Saving your ontology\n",
    "\n",
    "Go over your ontology to ensure that it is consistent and that it meets all requirements as asked through the various questions. If both criteria are met you will obtain an additional point (making a total of 2 points for this question). Note that there are several [online validators](http://mowl-power.cs.man.ac.uk:8080/validator/) that can help you check your ontology for consistency.\n",
    "\n",
    "Next, export/save your ontology to a file using Turtle as serialization format. Use *save as* to ensure that later modifications won't end up in this file. \n",
    "\n",
    "**Submit this file together with your notebook**"
   ]
  },
  {
   "cell_type": "markdown",
   "metadata": {},
   "source": [
    "### Task 7 (1 Point): An inconsist ontology\n",
    "\n",
    "Add one or more axioms to your ontology in such a way that it becomes inconsistent. Note that the added axioms themselves *must* be consistent; adding a single inconsistent axiom is not allowed.\n",
    "\n",
    "**IMPORTANT: do not submit this version**\n",
    "\n",
    "List and describe the axioms that you added. Motivate your choices and explain why the ontology became inconsistent.\n",
    "\n",
    "\n",
    "Save the good version first"
   ]
  },
  {
   "cell_type": "markdown",
   "metadata": {},
   "source": [
    "Your answer here"
   ]
  },
  {
   "cell_type": "markdown",
   "metadata": {},
   "source": [
    "---\n",
    "\n",
    "## Submitting your answers\n",
    "\n",
    "To submit your answers for this assignment, create a zip-file containing both this notebook and your *consistent* ontology (saved during task 6). Name this zip-file **assignment_4_VUnetID.zip** (where VUnetID is of course to be replaced by your personal VUnetID, eg **rss220**), and submit it via Canvas."
   ]
  }
 ],
 "metadata": {
  "kernelspec": {
   "display_name": "Python 3 (ipykernel)",
   "language": "python",
   "name": "python3"
  },
  "language_info": {
   "codemirror_mode": {
    "name": "ipython",
    "version": 3
   },
   "file_extension": ".py",
   "mimetype": "text/x-python",
   "name": "python",
   "nbconvert_exporter": "python",
   "pygments_lexer": "ipython3",
   "version": "3.10.4"
  }
 },
 "nbformat": 4,
 "nbformat_minor": 4
}
